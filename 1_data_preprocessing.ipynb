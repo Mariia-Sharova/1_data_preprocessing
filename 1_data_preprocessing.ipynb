{
 "cells": [
  {
   "cell_type": "markdown",
   "id": "386f2ae7",
   "metadata": {
    "deletable": false,
    "editable": false,
    "id": "386f2ae7"
   },
   "source": [
    "# Исследование надежности заемщиков\n"
   ]
  },
  {
   "cell_type": "markdown",
   "id": "ffe86f65",
   "metadata": {
    "deletable": false,
    "editable": false,
    "id": "ffe86f65"
   },
   "source": [
    "Во второй части проекта вы выполните шаги 3 и 4. Их вручную проверит ревьюер.\n",
    "Чтобы вам не пришлось писать код заново для шагов 1 и 2, мы добавили авторские решения в ячейки с кодом. \n",
    "\n"
   ]
  },
  {
   "cell_type": "markdown",
   "id": "26613308",
   "metadata": {
    "deletable": false,
    "editable": false,
    "id": "26613308"
   },
   "source": [
    "## Откройте таблицу и изучите общую информацию о данных"
   ]
  },
  {
   "cell_type": "markdown",
   "id": "3c9f838e",
   "metadata": {
    "deletable": false,
    "editable": false,
    "id": "3c9f838e"
   },
   "source": [
    "**Задание 1. Импортируйте библиотеку pandas. Считайте данные из csv-файла в датафрейм и сохраните в переменную `data`. Путь к файлу:**\n",
    "\n",
    "`/datasets/data.csv`"
   ]
  },
  {
   "cell_type": "code",
   "execution_count": 1,
   "id": "8fc1732f",
   "metadata": {},
   "outputs": [],
   "source": [
    "import pandas as pd\n",
    "import seaborn as sns\n",
    "import matplotlib.pyplot as plt\n",
    "%matplotlib inline"
   ]
  },
  {
   "cell_type": "code",
   "execution_count": 2,
   "id": "77a68a90",
   "metadata": {
    "deletable": false,
    "id": "77a68a90"
   },
   "outputs": [],
   "source": [
    "try:\n",
    "    data = pd.read_csv('/datasets/data.csv')\n",
    "except:\n",
    "    data = pd.read_csv('https://code.s3.yandex.net/datasets/data.csv')"
   ]
  },
  {
   "cell_type": "markdown",
   "id": "45365635",
   "metadata": {
    "deletable": false,
    "editable": false,
    "id": "45365635"
   },
   "source": [
    "**Задание 2. Выведите первые 20 строчек датафрейма `data` на экран.**"
   ]
  },
  {
   "cell_type": "code",
   "execution_count": 3,
   "id": "b0451a9a",
   "metadata": {
    "deletable": false,
    "id": "b0451a9a",
    "outputId": "1a8f3ef2-d323-4ec2-ddf7-89670b5944c4"
   },
   "outputs": [
    {
     "data": {
      "text/html": [
       "<div>\n",
       "<style scoped>\n",
       "    .dataframe tbody tr th:only-of-type {\n",
       "        vertical-align: middle;\n",
       "    }\n",
       "\n",
       "    .dataframe tbody tr th {\n",
       "        vertical-align: top;\n",
       "    }\n",
       "\n",
       "    .dataframe thead th {\n",
       "        text-align: right;\n",
       "    }\n",
       "</style>\n",
       "<table border=\"1\" class=\"dataframe\">\n",
       "  <thead>\n",
       "    <tr style=\"text-align: right;\">\n",
       "      <th></th>\n",
       "      <th>children</th>\n",
       "      <th>days_employed</th>\n",
       "      <th>dob_years</th>\n",
       "      <th>education</th>\n",
       "      <th>education_id</th>\n",
       "      <th>family_status</th>\n",
       "      <th>family_status_id</th>\n",
       "      <th>gender</th>\n",
       "      <th>income_type</th>\n",
       "      <th>debt</th>\n",
       "      <th>total_income</th>\n",
       "      <th>purpose</th>\n",
       "    </tr>\n",
       "  </thead>\n",
       "  <tbody>\n",
       "    <tr>\n",
       "      <th>0</th>\n",
       "      <td>1</td>\n",
       "      <td>-8437.673028</td>\n",
       "      <td>42</td>\n",
       "      <td>высшее</td>\n",
       "      <td>0</td>\n",
       "      <td>женат / замужем</td>\n",
       "      <td>0</td>\n",
       "      <td>F</td>\n",
       "      <td>сотрудник</td>\n",
       "      <td>0</td>\n",
       "      <td>253875.639453</td>\n",
       "      <td>покупка жилья</td>\n",
       "    </tr>\n",
       "    <tr>\n",
       "      <th>1</th>\n",
       "      <td>1</td>\n",
       "      <td>-4024.803754</td>\n",
       "      <td>36</td>\n",
       "      <td>среднее</td>\n",
       "      <td>1</td>\n",
       "      <td>женат / замужем</td>\n",
       "      <td>0</td>\n",
       "      <td>F</td>\n",
       "      <td>сотрудник</td>\n",
       "      <td>0</td>\n",
       "      <td>112080.014102</td>\n",
       "      <td>приобретение автомобиля</td>\n",
       "    </tr>\n",
       "    <tr>\n",
       "      <th>2</th>\n",
       "      <td>0</td>\n",
       "      <td>-5623.422610</td>\n",
       "      <td>33</td>\n",
       "      <td>Среднее</td>\n",
       "      <td>1</td>\n",
       "      <td>женат / замужем</td>\n",
       "      <td>0</td>\n",
       "      <td>M</td>\n",
       "      <td>сотрудник</td>\n",
       "      <td>0</td>\n",
       "      <td>145885.952297</td>\n",
       "      <td>покупка жилья</td>\n",
       "    </tr>\n",
       "    <tr>\n",
       "      <th>3</th>\n",
       "      <td>3</td>\n",
       "      <td>-4124.747207</td>\n",
       "      <td>32</td>\n",
       "      <td>среднее</td>\n",
       "      <td>1</td>\n",
       "      <td>женат / замужем</td>\n",
       "      <td>0</td>\n",
       "      <td>M</td>\n",
       "      <td>сотрудник</td>\n",
       "      <td>0</td>\n",
       "      <td>267628.550329</td>\n",
       "      <td>дополнительное образование</td>\n",
       "    </tr>\n",
       "    <tr>\n",
       "      <th>4</th>\n",
       "      <td>0</td>\n",
       "      <td>340266.072047</td>\n",
       "      <td>53</td>\n",
       "      <td>среднее</td>\n",
       "      <td>1</td>\n",
       "      <td>гражданский брак</td>\n",
       "      <td>1</td>\n",
       "      <td>F</td>\n",
       "      <td>пенсионер</td>\n",
       "      <td>0</td>\n",
       "      <td>158616.077870</td>\n",
       "      <td>сыграть свадьбу</td>\n",
       "    </tr>\n",
       "    <tr>\n",
       "      <th>5</th>\n",
       "      <td>0</td>\n",
       "      <td>-926.185831</td>\n",
       "      <td>27</td>\n",
       "      <td>высшее</td>\n",
       "      <td>0</td>\n",
       "      <td>гражданский брак</td>\n",
       "      <td>1</td>\n",
       "      <td>M</td>\n",
       "      <td>компаньон</td>\n",
       "      <td>0</td>\n",
       "      <td>255763.565419</td>\n",
       "      <td>покупка жилья</td>\n",
       "    </tr>\n",
       "    <tr>\n",
       "      <th>6</th>\n",
       "      <td>0</td>\n",
       "      <td>-2879.202052</td>\n",
       "      <td>43</td>\n",
       "      <td>высшее</td>\n",
       "      <td>0</td>\n",
       "      <td>женат / замужем</td>\n",
       "      <td>0</td>\n",
       "      <td>F</td>\n",
       "      <td>компаньон</td>\n",
       "      <td>0</td>\n",
       "      <td>240525.971920</td>\n",
       "      <td>операции с жильем</td>\n",
       "    </tr>\n",
       "    <tr>\n",
       "      <th>7</th>\n",
       "      <td>0</td>\n",
       "      <td>-152.779569</td>\n",
       "      <td>50</td>\n",
       "      <td>СРЕДНЕЕ</td>\n",
       "      <td>1</td>\n",
       "      <td>женат / замужем</td>\n",
       "      <td>0</td>\n",
       "      <td>M</td>\n",
       "      <td>сотрудник</td>\n",
       "      <td>0</td>\n",
       "      <td>135823.934197</td>\n",
       "      <td>образование</td>\n",
       "    </tr>\n",
       "    <tr>\n",
       "      <th>8</th>\n",
       "      <td>2</td>\n",
       "      <td>-6929.865299</td>\n",
       "      <td>35</td>\n",
       "      <td>ВЫСШЕЕ</td>\n",
       "      <td>0</td>\n",
       "      <td>гражданский брак</td>\n",
       "      <td>1</td>\n",
       "      <td>F</td>\n",
       "      <td>сотрудник</td>\n",
       "      <td>0</td>\n",
       "      <td>95856.832424</td>\n",
       "      <td>на проведение свадьбы</td>\n",
       "    </tr>\n",
       "    <tr>\n",
       "      <th>9</th>\n",
       "      <td>0</td>\n",
       "      <td>-2188.756445</td>\n",
       "      <td>41</td>\n",
       "      <td>среднее</td>\n",
       "      <td>1</td>\n",
       "      <td>женат / замужем</td>\n",
       "      <td>0</td>\n",
       "      <td>M</td>\n",
       "      <td>сотрудник</td>\n",
       "      <td>0</td>\n",
       "      <td>144425.938277</td>\n",
       "      <td>покупка жилья для семьи</td>\n",
       "    </tr>\n",
       "    <tr>\n",
       "      <th>10</th>\n",
       "      <td>2</td>\n",
       "      <td>-4171.483647</td>\n",
       "      <td>36</td>\n",
       "      <td>высшее</td>\n",
       "      <td>0</td>\n",
       "      <td>женат / замужем</td>\n",
       "      <td>0</td>\n",
       "      <td>M</td>\n",
       "      <td>компаньон</td>\n",
       "      <td>0</td>\n",
       "      <td>113943.491460</td>\n",
       "      <td>покупка недвижимости</td>\n",
       "    </tr>\n",
       "    <tr>\n",
       "      <th>11</th>\n",
       "      <td>0</td>\n",
       "      <td>-792.701887</td>\n",
       "      <td>40</td>\n",
       "      <td>среднее</td>\n",
       "      <td>1</td>\n",
       "      <td>женат / замужем</td>\n",
       "      <td>0</td>\n",
       "      <td>F</td>\n",
       "      <td>сотрудник</td>\n",
       "      <td>0</td>\n",
       "      <td>77069.234271</td>\n",
       "      <td>покупка коммерческой недвижимости</td>\n",
       "    </tr>\n",
       "    <tr>\n",
       "      <th>12</th>\n",
       "      <td>0</td>\n",
       "      <td>NaN</td>\n",
       "      <td>65</td>\n",
       "      <td>среднее</td>\n",
       "      <td>1</td>\n",
       "      <td>гражданский брак</td>\n",
       "      <td>1</td>\n",
       "      <td>M</td>\n",
       "      <td>пенсионер</td>\n",
       "      <td>0</td>\n",
       "      <td>NaN</td>\n",
       "      <td>сыграть свадьбу</td>\n",
       "    </tr>\n",
       "    <tr>\n",
       "      <th>13</th>\n",
       "      <td>0</td>\n",
       "      <td>-1846.641941</td>\n",
       "      <td>54</td>\n",
       "      <td>неоконченное высшее</td>\n",
       "      <td>2</td>\n",
       "      <td>женат / замужем</td>\n",
       "      <td>0</td>\n",
       "      <td>F</td>\n",
       "      <td>сотрудник</td>\n",
       "      <td>0</td>\n",
       "      <td>130458.228857</td>\n",
       "      <td>приобретение автомобиля</td>\n",
       "    </tr>\n",
       "    <tr>\n",
       "      <th>14</th>\n",
       "      <td>0</td>\n",
       "      <td>-1844.956182</td>\n",
       "      <td>56</td>\n",
       "      <td>высшее</td>\n",
       "      <td>0</td>\n",
       "      <td>гражданский брак</td>\n",
       "      <td>1</td>\n",
       "      <td>F</td>\n",
       "      <td>компаньон</td>\n",
       "      <td>1</td>\n",
       "      <td>165127.911772</td>\n",
       "      <td>покупка жилой недвижимости</td>\n",
       "    </tr>\n",
       "    <tr>\n",
       "      <th>15</th>\n",
       "      <td>1</td>\n",
       "      <td>-972.364419</td>\n",
       "      <td>26</td>\n",
       "      <td>среднее</td>\n",
       "      <td>1</td>\n",
       "      <td>женат / замужем</td>\n",
       "      <td>0</td>\n",
       "      <td>F</td>\n",
       "      <td>сотрудник</td>\n",
       "      <td>0</td>\n",
       "      <td>116820.904450</td>\n",
       "      <td>строительство собственной недвижимости</td>\n",
       "    </tr>\n",
       "    <tr>\n",
       "      <th>16</th>\n",
       "      <td>0</td>\n",
       "      <td>-1719.934226</td>\n",
       "      <td>35</td>\n",
       "      <td>среднее</td>\n",
       "      <td>1</td>\n",
       "      <td>женат / замужем</td>\n",
       "      <td>0</td>\n",
       "      <td>F</td>\n",
       "      <td>сотрудник</td>\n",
       "      <td>0</td>\n",
       "      <td>289202.704229</td>\n",
       "      <td>недвижимость</td>\n",
       "    </tr>\n",
       "    <tr>\n",
       "      <th>17</th>\n",
       "      <td>0</td>\n",
       "      <td>-2369.999720</td>\n",
       "      <td>33</td>\n",
       "      <td>высшее</td>\n",
       "      <td>0</td>\n",
       "      <td>гражданский брак</td>\n",
       "      <td>1</td>\n",
       "      <td>M</td>\n",
       "      <td>сотрудник</td>\n",
       "      <td>0</td>\n",
       "      <td>90410.586745</td>\n",
       "      <td>строительство недвижимости</td>\n",
       "    </tr>\n",
       "    <tr>\n",
       "      <th>18</th>\n",
       "      <td>0</td>\n",
       "      <td>400281.136913</td>\n",
       "      <td>53</td>\n",
       "      <td>среднее</td>\n",
       "      <td>1</td>\n",
       "      <td>вдовец / вдова</td>\n",
       "      <td>2</td>\n",
       "      <td>F</td>\n",
       "      <td>пенсионер</td>\n",
       "      <td>0</td>\n",
       "      <td>56823.777243</td>\n",
       "      <td>на покупку подержанного автомобиля</td>\n",
       "    </tr>\n",
       "    <tr>\n",
       "      <th>19</th>\n",
       "      <td>0</td>\n",
       "      <td>-10038.818549</td>\n",
       "      <td>48</td>\n",
       "      <td>СРЕДНЕЕ</td>\n",
       "      <td>1</td>\n",
       "      <td>в разводе</td>\n",
       "      <td>3</td>\n",
       "      <td>F</td>\n",
       "      <td>сотрудник</td>\n",
       "      <td>0</td>\n",
       "      <td>242831.107982</td>\n",
       "      <td>на покупку своего автомобиля</td>\n",
       "    </tr>\n",
       "  </tbody>\n",
       "</table>\n",
       "</div>"
      ],
      "text/plain": [
       "    children  days_employed  dob_years            education  education_id  \\\n",
       "0          1   -8437.673028         42               высшее             0   \n",
       "1          1   -4024.803754         36              среднее             1   \n",
       "2          0   -5623.422610         33              Среднее             1   \n",
       "3          3   -4124.747207         32              среднее             1   \n",
       "4          0  340266.072047         53              среднее             1   \n",
       "5          0    -926.185831         27               высшее             0   \n",
       "6          0   -2879.202052         43               высшее             0   \n",
       "7          0    -152.779569         50              СРЕДНЕЕ             1   \n",
       "8          2   -6929.865299         35               ВЫСШЕЕ             0   \n",
       "9          0   -2188.756445         41              среднее             1   \n",
       "10         2   -4171.483647         36               высшее             0   \n",
       "11         0    -792.701887         40              среднее             1   \n",
       "12         0            NaN         65              среднее             1   \n",
       "13         0   -1846.641941         54  неоконченное высшее             2   \n",
       "14         0   -1844.956182         56               высшее             0   \n",
       "15         1    -972.364419         26              среднее             1   \n",
       "16         0   -1719.934226         35              среднее             1   \n",
       "17         0   -2369.999720         33               высшее             0   \n",
       "18         0  400281.136913         53              среднее             1   \n",
       "19         0  -10038.818549         48              СРЕДНЕЕ             1   \n",
       "\n",
       "       family_status  family_status_id gender income_type  debt  \\\n",
       "0    женат / замужем                 0      F   сотрудник     0   \n",
       "1    женат / замужем                 0      F   сотрудник     0   \n",
       "2    женат / замужем                 0      M   сотрудник     0   \n",
       "3    женат / замужем                 0      M   сотрудник     0   \n",
       "4   гражданский брак                 1      F   пенсионер     0   \n",
       "5   гражданский брак                 1      M   компаньон     0   \n",
       "6    женат / замужем                 0      F   компаньон     0   \n",
       "7    женат / замужем                 0      M   сотрудник     0   \n",
       "8   гражданский брак                 1      F   сотрудник     0   \n",
       "9    женат / замужем                 0      M   сотрудник     0   \n",
       "10   женат / замужем                 0      M   компаньон     0   \n",
       "11   женат / замужем                 0      F   сотрудник     0   \n",
       "12  гражданский брак                 1      M   пенсионер     0   \n",
       "13   женат / замужем                 0      F   сотрудник     0   \n",
       "14  гражданский брак                 1      F   компаньон     1   \n",
       "15   женат / замужем                 0      F   сотрудник     0   \n",
       "16   женат / замужем                 0      F   сотрудник     0   \n",
       "17  гражданский брак                 1      M   сотрудник     0   \n",
       "18    вдовец / вдова                 2      F   пенсионер     0   \n",
       "19         в разводе                 3      F   сотрудник     0   \n",
       "\n",
       "     total_income                                 purpose  \n",
       "0   253875.639453                           покупка жилья  \n",
       "1   112080.014102                 приобретение автомобиля  \n",
       "2   145885.952297                           покупка жилья  \n",
       "3   267628.550329              дополнительное образование  \n",
       "4   158616.077870                         сыграть свадьбу  \n",
       "5   255763.565419                           покупка жилья  \n",
       "6   240525.971920                       операции с жильем  \n",
       "7   135823.934197                             образование  \n",
       "8    95856.832424                   на проведение свадьбы  \n",
       "9   144425.938277                 покупка жилья для семьи  \n",
       "10  113943.491460                    покупка недвижимости  \n",
       "11   77069.234271       покупка коммерческой недвижимости  \n",
       "12            NaN                         сыграть свадьбу  \n",
       "13  130458.228857                 приобретение автомобиля  \n",
       "14  165127.911772              покупка жилой недвижимости  \n",
       "15  116820.904450  строительство собственной недвижимости  \n",
       "16  289202.704229                            недвижимость  \n",
       "17   90410.586745              строительство недвижимости  \n",
       "18   56823.777243      на покупку подержанного автомобиля  \n",
       "19  242831.107982            на покупку своего автомобиля  "
      ]
     },
     "execution_count": 3,
     "metadata": {},
     "output_type": "execute_result"
    }
   ],
   "source": [
    "data.head(20)"
   ]
  },
  {
   "cell_type": "markdown",
   "id": "0ed8f27f",
   "metadata": {
    "deletable": false,
    "editable": false,
    "id": "0ed8f27f"
   },
   "source": [
    "**Задание 3. Выведите основную информацию о датафрейме с помощью метода `info()`.**"
   ]
  },
  {
   "cell_type": "code",
   "execution_count": 4,
   "id": "ab3f863b",
   "metadata": {
    "deletable": false,
    "id": "ab3f863b",
    "outputId": "15376089-8dad-46c9-b520-c05248d43158"
   },
   "outputs": [
    {
     "name": "stdout",
     "output_type": "stream",
     "text": [
      "<class 'pandas.core.frame.DataFrame'>\n",
      "RangeIndex: 21525 entries, 0 to 21524\n",
      "Data columns (total 12 columns):\n",
      " #   Column            Non-Null Count  Dtype  \n",
      "---  ------            --------------  -----  \n",
      " 0   children          21525 non-null  int64  \n",
      " 1   days_employed     19351 non-null  float64\n",
      " 2   dob_years         21525 non-null  int64  \n",
      " 3   education         21525 non-null  object \n",
      " 4   education_id      21525 non-null  int64  \n",
      " 5   family_status     21525 non-null  object \n",
      " 6   family_status_id  21525 non-null  int64  \n",
      " 7   gender            21525 non-null  object \n",
      " 8   income_type       21525 non-null  object \n",
      " 9   debt              21525 non-null  int64  \n",
      " 10  total_income      19351 non-null  float64\n",
      " 11  purpose           21525 non-null  object \n",
      "dtypes: float64(2), int64(5), object(5)\n",
      "memory usage: 2.0+ MB\n"
     ]
    }
   ],
   "source": [
    "data.info()"
   ]
  },
  {
   "cell_type": "markdown",
   "id": "60e3e22d",
   "metadata": {
    "deletable": false,
    "editable": false,
    "id": "60e3e22d"
   },
   "source": [
    "## Предобработка данных"
   ]
  },
  {
   "cell_type": "markdown",
   "id": "03dc170c",
   "metadata": {
    "deletable": false,
    "editable": false,
    "id": "03dc170c"
   },
   "source": [
    "### Удаление пропусков"
   ]
  },
  {
   "cell_type": "markdown",
   "id": "a4f54eef",
   "metadata": {
    "deletable": false,
    "editable": false,
    "id": "a4f54eef"
   },
   "source": [
    "**Задание 4. Выведите количество пропущенных значений для каждого столбца. Используйте комбинацию двух методов.**"
   ]
  },
  {
   "cell_type": "code",
   "execution_count": 5,
   "id": "2dc372b2",
   "metadata": {
    "deletable": false,
    "id": "2dc372b2",
    "outputId": "81f4d817-781c-465c-ed15-91ce4446810d"
   },
   "outputs": [
    {
     "data": {
      "text/plain": [
       "children               0\n",
       "days_employed       2174\n",
       "dob_years              0\n",
       "education              0\n",
       "education_id           0\n",
       "family_status          0\n",
       "family_status_id       0\n",
       "gender                 0\n",
       "income_type            0\n",
       "debt                   0\n",
       "total_income        2174\n",
       "purpose                0\n",
       "dtype: int64"
      ]
     },
     "execution_count": 5,
     "metadata": {},
     "output_type": "execute_result"
    }
   ],
   "source": [
    "data.isna().sum()"
   ]
  },
  {
   "cell_type": "markdown",
   "id": "14f011b1",
   "metadata": {
    "deletable": false,
    "editable": false,
    "id": "14f011b1"
   },
   "source": [
    "**Задание 5. В двух столбцах есть пропущенные значения. Один из них — `days_employed`. Пропуски в этом столбце вы обработаете на следующем этапе. Другой столбец с пропущенными значениями — `total_income` — хранит данные о доходах. На сумму дохода сильнее всего влияет тип занятости, поэтому заполнить пропуски в этом столбце нужно медианным значением по каждому типу из столбца `income_type`. Например, у человека с типом занятости `сотрудник` пропуск в столбце `total_income` должен быть заполнен медианным доходом среди всех записей с тем же типом.**"
   ]
  },
  {
   "cell_type": "code",
   "execution_count": 6,
   "id": "bdabfb6e",
   "metadata": {
    "deletable": false,
    "id": "bdabfb6e"
   },
   "outputs": [],
   "source": [
    "for t in data['income_type'].unique():\n",
    "    data.loc[(data['income_type'] == t) & (data['total_income'].isna()), 'total_income'] = \\\n",
    "    data.loc[(data['income_type'] == t), 'total_income'].median()"
   ]
  },
  {
   "cell_type": "markdown",
   "id": "5be34059",
   "metadata": {
    "deletable": false,
    "editable": false,
    "id": "5be34059"
   },
   "source": [
    "### Обработка аномальных значений"
   ]
  },
  {
   "cell_type": "markdown",
   "id": "a87606cb",
   "metadata": {
    "deletable": false,
    "editable": false,
    "id": "a87606cb"
   },
   "source": [
    "**Задание 6. В данных могут встречаться артефакты (аномалии) — значения, которые не отражают действительность и появились по какой-то ошибке. таким артефактом будет отрицательное количество дней трудового стажа в столбце `days_employed`. Для реальных данных это нормально. Обработайте значения в этом столбце: замените все отрицательные значения положительными с помощью метода `abs()`.**"
   ]
  },
  {
   "cell_type": "code",
   "execution_count": 7,
   "id": "020c46cc",
   "metadata": {
    "deletable": false,
    "id": "020c46cc"
   },
   "outputs": [],
   "source": [
    "data['days_employed'] = data['days_employed'].abs()"
   ]
  },
  {
   "cell_type": "markdown",
   "id": "45538a3a",
   "metadata": {
    "deletable": false,
    "editable": false,
    "id": "45538a3a"
   },
   "source": [
    "**Задание 7. Для каждого типа занятости выведите медианное значение трудового стажа `days_employed` в днях.**"
   ]
  },
  {
   "cell_type": "code",
   "execution_count": 8,
   "id": "cd3e6328",
   "metadata": {
    "deletable": false,
    "id": "cd3e6328",
    "outputId": "801ef80e-522b-4668-f34e-565af7432bcf"
   },
   "outputs": [
    {
     "data": {
      "text/plain": [
       "income_type\n",
       "безработный        366413.652744\n",
       "в декрете            3296.759962\n",
       "госслужащий          2689.368353\n",
       "компаньон            1547.382223\n",
       "пенсионер          365213.306266\n",
       "предприниматель       520.848083\n",
       "сотрудник            1574.202821\n",
       "студент               578.751554\n",
       "Name: days_employed, dtype: float64"
      ]
     },
     "execution_count": 8,
     "metadata": {},
     "output_type": "execute_result"
    }
   ],
   "source": [
    "data.groupby('income_type')['days_employed'].agg('median')"
   ]
  },
  {
   "cell_type": "markdown",
   "id": "90c5f058",
   "metadata": {
    "deletable": false,
    "editable": false,
    "id": "90c5f058"
   },
   "source": [
    "У двух типов (безработные и пенсионеры) получатся аномально большие значения. Исправить такие значения сложно, поэтому оставьте их как есть."
   ]
  },
  {
   "cell_type": "markdown",
   "id": "9652e50d",
   "metadata": {
    "deletable": false,
    "editable": false,
    "id": "9652e50d"
   },
   "source": [
    "**Задание 8. Выведите перечень уникальных значений столбца `children`.**"
   ]
  },
  {
   "cell_type": "code",
   "execution_count": 9,
   "id": "dbb37b8e",
   "metadata": {
    "deletable": false,
    "id": "dbb37b8e",
    "outputId": "6975b15c-7f95-4697-d16d-a0c79b657b03"
   },
   "outputs": [
    {
     "data": {
      "text/plain": [
       "array([ 1,  0,  3,  2, -1,  4, 20,  5], dtype=int64)"
      ]
     },
     "execution_count": 9,
     "metadata": {},
     "output_type": "execute_result"
    }
   ],
   "source": [
    "data['children'].unique()"
   ]
  },
  {
   "cell_type": "markdown",
   "id": "2b8b0715",
   "metadata": {
    "deletable": false,
    "editable": false,
    "id": "2b8b0715"
   },
   "source": [
    "**Задание 9. В столбце `children` есть два аномальных значения. Удалите строки, в которых встречаются такие аномальные значения из датафрейма `data`.**"
   ]
  },
  {
   "cell_type": "code",
   "execution_count": 10,
   "id": "20009df8",
   "metadata": {
    "deletable": false,
    "id": "20009df8"
   },
   "outputs": [],
   "source": [
    "data = data[(data['children'] != -1) & (data['children'] != 20)]"
   ]
  },
  {
   "cell_type": "markdown",
   "id": "8c6ac9f1",
   "metadata": {
    "deletable": false,
    "editable": false,
    "id": "8c6ac9f1"
   },
   "source": [
    "**Задание 10. Ещё раз выведите перечень уникальных значений столбца `children`, чтобы убедиться, что артефакты удалены.**"
   ]
  },
  {
   "cell_type": "code",
   "execution_count": 11,
   "id": "07337b81",
   "metadata": {
    "deletable": false,
    "id": "07337b81",
    "outputId": "b2097101-d49d-44d9-901b-32a65c9463d1"
   },
   "outputs": [
    {
     "data": {
      "text/plain": [
       "array([1, 0, 3, 2, 4, 5], dtype=int64)"
      ]
     },
     "execution_count": 11,
     "metadata": {},
     "output_type": "execute_result"
    }
   ],
   "source": [
    "data['children'].unique()"
   ]
  },
  {
   "cell_type": "markdown",
   "id": "ee3f52d4",
   "metadata": {
    "deletable": false,
    "editable": false,
    "id": "ee3f52d4"
   },
   "source": [
    "### Удаление пропусков (продолжение)"
   ]
  },
  {
   "cell_type": "markdown",
   "id": "a700b0e4",
   "metadata": {
    "deletable": false,
    "editable": false,
    "id": "a700b0e4"
   },
   "source": [
    "**Задание 11. Заполните пропуски в столбце `days_employed` медианными значениями по каждого типа занятости `income_type`.**"
   ]
  },
  {
   "cell_type": "code",
   "execution_count": 12,
   "id": "61946b83",
   "metadata": {
    "deletable": false,
    "id": "61946b83"
   },
   "outputs": [],
   "source": [
    "for t in data['income_type'].unique():\n",
    "    data.loc[(data['income_type'] == t) & (data['days_employed'].isna()), 'days_employed'] = \\\n",
    "    data.loc[(data['income_type'] == t), 'days_employed'].median()"
   ]
  },
  {
   "cell_type": "markdown",
   "id": "550dcd9b",
   "metadata": {
    "deletable": false,
    "editable": false,
    "id": "550dcd9b"
   },
   "source": [
    "**Задание 12. Убедитесь, что все пропуски заполнены. Проверьте себя и ещё раз выведите количество пропущенных значений для каждого столбца с помощью двух методов.**"
   ]
  },
  {
   "cell_type": "code",
   "execution_count": 13,
   "id": "937c7014",
   "metadata": {
    "deletable": false,
    "id": "937c7014",
    "outputId": "8da1e4e1-358e-4e87-98c9-f261bce0a7b2"
   },
   "outputs": [
    {
     "data": {
      "text/plain": [
       "children            0\n",
       "days_employed       0\n",
       "dob_years           0\n",
       "education           0\n",
       "education_id        0\n",
       "family_status       0\n",
       "family_status_id    0\n",
       "gender              0\n",
       "income_type         0\n",
       "debt                0\n",
       "total_income        0\n",
       "purpose             0\n",
       "dtype: int64"
      ]
     },
     "execution_count": 13,
     "metadata": {},
     "output_type": "execute_result"
    }
   ],
   "source": [
    "data.isna().sum()"
   ]
  },
  {
   "cell_type": "markdown",
   "id": "d522e295",
   "metadata": {
    "deletable": false,
    "editable": false,
    "id": "d522e295"
   },
   "source": [
    "### Изменение типов данных"
   ]
  },
  {
   "cell_type": "markdown",
   "id": "c229c581",
   "metadata": {
    "deletable": false,
    "editable": false,
    "id": "c229c581"
   },
   "source": [
    "**Задание 13. Замените вещественный тип данных в столбце `total_income` на целочисленный с помощью метода `astype()`.**"
   ]
  },
  {
   "cell_type": "code",
   "execution_count": 14,
   "id": "31036462",
   "metadata": {
    "deletable": false,
    "id": "31036462"
   },
   "outputs": [],
   "source": [
    "data['total_income'] = data['total_income'].astype(int)"
   ]
  },
  {
   "cell_type": "markdown",
   "id": "b8e3d1d9",
   "metadata": {
    "deletable": false,
    "editable": false,
    "id": "b8e3d1d9"
   },
   "source": [
    "### Обработка дубликатов"
   ]
  },
  {
   "cell_type": "markdown",
   "id": "9be53c49",
   "metadata": {
    "deletable": false,
    "editable": false,
    "id": "9be53c49"
   },
   "source": [
    "**Задание 14. Обработайте неявные дубликаты в столбце `education`. В этом столбце есть одни и те же значения, но записанные по-разному: с использованием заглавных и строчных букв. Приведите их к нижнему регистру.**"
   ]
  },
  {
   "cell_type": "code",
   "execution_count": 15,
   "id": "d89e73e1",
   "metadata": {
    "deletable": false,
    "id": "d89e73e1"
   },
   "outputs": [],
   "source": [
    "data['education'] = data['education'].str.lower()"
   ]
  },
  {
   "cell_type": "markdown",
   "id": "01d4500e",
   "metadata": {
    "deletable": false,
    "editable": false,
    "id": "01d4500e"
   },
   "source": [
    "**Задание 15. Выведите на экран количество строк-дубликатов в данных. Если такие строки присутствуют, удалите их.**"
   ]
  },
  {
   "cell_type": "code",
   "execution_count": 16,
   "id": "e10efb23",
   "metadata": {
    "deletable": false,
    "id": "e10efb23",
    "outputId": "9684deba-1934-42d1-99e1-cda61740f822"
   },
   "outputs": [
    {
     "data": {
      "text/plain": [
       "71"
      ]
     },
     "execution_count": 16,
     "metadata": {},
     "output_type": "execute_result"
    }
   ],
   "source": [
    "data.duplicated().sum()"
   ]
  },
  {
   "cell_type": "code",
   "execution_count": 17,
   "id": "df853f20",
   "metadata": {
    "deletable": false,
    "id": "df853f20"
   },
   "outputs": [],
   "source": [
    "data = data.drop_duplicates()"
   ]
  },
  {
   "cell_type": "markdown",
   "id": "627be38f",
   "metadata": {
    "deletable": false,
    "editable": false,
    "id": "627be38f"
   },
   "source": [
    "### Категоризация данных"
   ]
  },
  {
   "cell_type": "markdown",
   "id": "4684c3e0",
   "metadata": {
    "deletable": false,
    "editable": false,
    "id": "4684c3e0"
   },
   "source": [
    "**Задание 16. На основании диапазонов, указанных ниже, создайте в датафрейме `data` столбец `total_income_category` с категориями:**\n",
    "\n",
    "- 0–30000 — `'E'`;\n",
    "- 30001–50000 — `'D'`;\n",
    "- 50001–200000 — `'C'`;\n",
    "- 200001–1000000 — `'B'`;\n",
    "- 1000001 и выше — `'A'`.\n",
    "\n",
    "\n",
    "**Например, кредитополучателю с доходом 25000 нужно назначить категорию `'E'`, а клиенту, получающему 235000, — `'B'`. Используйте собственную функцию с именем `categorize_income()` и метод `apply()`.**"
   ]
  },
  {
   "cell_type": "code",
   "execution_count": 18,
   "id": "78965238",
   "metadata": {
    "deletable": false,
    "id": "78965238"
   },
   "outputs": [],
   "source": [
    "def categorize_income(income):\n",
    "    try:\n",
    "        if 0 <= income <= 30000:\n",
    "            return 'E'\n",
    "        elif 30001 <= income <= 50000:\n",
    "            return 'D'\n",
    "        elif 50001 <= income <= 200000:\n",
    "            return 'C'\n",
    "        elif 200001 <= income <= 1000000:\n",
    "            return 'B'\n",
    "        elif income >= 1000001:\n",
    "            return 'A'\n",
    "    except:\n",
    "        pass"
   ]
  },
  {
   "cell_type": "code",
   "execution_count": 19,
   "id": "0980ada1",
   "metadata": {
    "deletable": false,
    "id": "0980ada1"
   },
   "outputs": [],
   "source": [
    "data['total_income_category'] = data['total_income'].apply(categorize_income)"
   ]
  },
  {
   "cell_type": "markdown",
   "id": "9917bba0",
   "metadata": {
    "deletable": false,
    "editable": false,
    "id": "9917bba0"
   },
   "source": [
    "**Задание 17. Выведите на экран перечень уникальных целей взятия кредита из столбца `purpose`.**"
   ]
  },
  {
   "cell_type": "code",
   "execution_count": 20,
   "id": "ee07b65e",
   "metadata": {
    "deletable": false,
    "id": "ee07b65e",
    "outputId": "673c12d9-7d7e-4ae0-9812-c622c89dd244"
   },
   "outputs": [
    {
     "data": {
      "text/plain": [
       "array(['покупка жилья', 'приобретение автомобиля',\n",
       "       'дополнительное образование', 'сыграть свадьбу',\n",
       "       'операции с жильем', 'образование', 'на проведение свадьбы',\n",
       "       'покупка жилья для семьи', 'покупка недвижимости',\n",
       "       'покупка коммерческой недвижимости', 'покупка жилой недвижимости',\n",
       "       'строительство собственной недвижимости', 'недвижимость',\n",
       "       'строительство недвижимости', 'на покупку подержанного автомобиля',\n",
       "       'на покупку своего автомобиля',\n",
       "       'операции с коммерческой недвижимостью',\n",
       "       'строительство жилой недвижимости', 'жилье',\n",
       "       'операции со своей недвижимостью', 'автомобили',\n",
       "       'заняться образованием', 'сделка с подержанным автомобилем',\n",
       "       'получение образования', 'автомобиль', 'свадьба',\n",
       "       'получение дополнительного образования', 'покупка своего жилья',\n",
       "       'операции с недвижимостью', 'получение высшего образования',\n",
       "       'свой автомобиль', 'сделка с автомобилем',\n",
       "       'профильное образование', 'высшее образование',\n",
       "       'покупка жилья для сдачи', 'на покупку автомобиля', 'ремонт жилью',\n",
       "       'заняться высшим образованием'], dtype=object)"
      ]
     },
     "execution_count": 20,
     "metadata": {},
     "output_type": "execute_result"
    }
   ],
   "source": [
    "data['purpose'].unique()"
   ]
  },
  {
   "cell_type": "markdown",
   "id": "52b79d56",
   "metadata": {
    "deletable": false,
    "editable": false,
    "id": "52b79d56"
   },
   "source": [
    "**Задание 18. Создайте функцию, которая на основании данных из столбца `purpose` сформирует новый столбец `purpose_category`, в который войдут следующие категории:**\n",
    "\n",
    "- `'операции с автомобилем'`,\n",
    "- `'операции с недвижимостью'`,\n",
    "- `'проведение свадьбы'`,\n",
    "- `'получение образования'`.\n",
    "\n",
    "**Например, если в столбце `purpose` находится подстрока `'на покупку автомобиля'`, то в столбце `purpose_category` должна появиться строка `'операции с автомобилем'`.**\n",
    "\n",
    "**Используйте собственную функцию с именем `categorize_purpose()` и метод `apply()`. Изучите данные в столбце `purpose` и определите, какие подстроки помогут вам правильно определить категорию.**"
   ]
  },
  {
   "cell_type": "code",
   "execution_count": 21,
   "id": "be41da5d",
   "metadata": {
    "deletable": false,
    "id": "be41da5d"
   },
   "outputs": [],
   "source": [
    "def categorize_purpose(row):\n",
    "    try:\n",
    "        if 'автом' in row:\n",
    "            return 'операции с автомобилем'\n",
    "        elif 'жил' in row or 'недвиж' in row:\n",
    "            return 'операции с недвижимостью'\n",
    "        elif 'свад' in row:\n",
    "            return 'проведение свадьбы'\n",
    "        elif 'образов' in row:\n",
    "            return 'получение образования'\n",
    "    except:\n",
    "        return 'нет категории'"
   ]
  },
  {
   "cell_type": "code",
   "execution_count": 22,
   "id": "94c4a19a",
   "metadata": {
    "deletable": false,
    "id": "94c4a19a"
   },
   "outputs": [],
   "source": [
    "data['purpose_category'] = data['purpose'].apply(categorize_purpose)"
   ]
  },
  {
   "cell_type": "markdown",
   "id": "3d596c34",
   "metadata": {
    "deletable": false,
    "editable": false,
    "id": "3d596c34"
   },
   "source": [
    "### Шаг 3. Исследуйте данные и ответьте на вопросы"
   ]
  },
  {
   "cell_type": "markdown",
   "id": "648db036",
   "metadata": {
    "deletable": false,
    "editable": false,
    "id": "648db036"
   },
   "source": [
    "#### 3.1 Есть ли зависимость между количеством детей и возвратом кредита в срок?"
   ]
  },
  {
   "cell_type": "code",
   "execution_count": 23,
   "id": "7fcff25e",
   "metadata": {
    "deletable": false,
    "id": "7fcff25e"
   },
   "outputs": [
    {
     "data": {
      "text/plain": [
       "<AxesSubplot:xlabel='children', ylabel='debt'>"
      ]
     },
     "execution_count": 23,
     "metadata": {},
     "output_type": "execute_result"
    },
    {
     "data": {
      "image/png": "[encoded data removed]",
      "text/plain": [
       "<Figure size 600x300 with 1 Axes>"
      ]
     },
     "metadata": {},
     "output_type": "display_data"
    }
   ],
   "source": [
    "# Ваш код будет здесь. Вы можете создавать новые ячейки.\n",
    "data_child = data['children']\n",
    "debt = data['debt']\n",
    "plt.figure(figsize=(6,3))\n",
    "sns.barplot(x = data_child, y = debt, ci=None)"
   ]
  },
  {
   "cell_type": "code",
   "execution_count": 24,
   "id": "4b1a1990",
   "metadata": {},
   "outputs": [
    {
     "data": {
      "text/plain": [
       "0    14091\n",
       "1     4808\n",
       "2     2052\n",
       "3      330\n",
       "4       41\n",
       "5        9\n",
       "Name: children, dtype: int64"
      ]
     },
     "execution_count": 24,
     "metadata": {},
     "output_type": "execute_result"
    }
   ],
   "source": [
    "data_child.value_counts()"
   ]
  },
  {
   "cell_type": "markdown",
   "id": "2eb9088e",
   "metadata": {
    "deletable": false,
    "id": "2eb9088e"
   },
   "source": [
    "**Вывод:** \n",
    "Семьи с 4 и 5 детьми мы отбрасываем, как малоинформативные - количество семей с таким количеством детей мало и в данном случае не дает нам нужную информацию в полном объеме.\n",
    "В семьях с 1 и 2 детьми уровень задолженностей в среднем выше, чем у семей с 1 или 3 детьми."
   ]
  },
  {
   "cell_type": "code",
   "execution_count": 25,
   "id": "40f5283c",
   "metadata": {},
   "outputs": [
    {
     "data": {
      "text/html": [
       "<div>\n",
       "<style scoped>\n",
       "    .dataframe tbody tr th:only-of-type {\n",
       "        vertical-align: middle;\n",
       "    }\n",
       "\n",
       "    .dataframe tbody tr th {\n",
       "        vertical-align: top;\n",
       "    }\n",
       "\n",
       "    .dataframe thead tr th {\n",
       "        text-align: left;\n",
       "    }\n",
       "\n",
       "    .dataframe thead tr:last-of-type th {\n",
       "        text-align: right;\n",
       "    }\n",
       "</style>\n",
       "<table border=\"1\" class=\"dataframe\">\n",
       "  <thead>\n",
       "    <tr>\n",
       "      <th></th>\n",
       "      <th>mean</th>\n",
       "      <th>count</th>\n",
       "    </tr>\n",
       "    <tr>\n",
       "      <th></th>\n",
       "      <th>debt</th>\n",
       "      <th>debt</th>\n",
       "    </tr>\n",
       "    <tr>\n",
       "      <th>children</th>\n",
       "      <th></th>\n",
       "      <th></th>\n",
       "    </tr>\n",
       "  </thead>\n",
       "  <tbody>\n",
       "    <tr>\n",
       "      <th>0</th>\n",
       "      <td>0.075438</td>\n",
       "      <td>14091</td>\n",
       "    </tr>\n",
       "    <tr>\n",
       "      <th>1</th>\n",
       "      <td>0.092346</td>\n",
       "      <td>4808</td>\n",
       "    </tr>\n",
       "    <tr>\n",
       "      <th>2</th>\n",
       "      <td>0.094542</td>\n",
       "      <td>2052</td>\n",
       "    </tr>\n",
       "    <tr>\n",
       "      <th>3</th>\n",
       "      <td>0.081818</td>\n",
       "      <td>330</td>\n",
       "    </tr>\n",
       "    <tr>\n",
       "      <th>4</th>\n",
       "      <td>0.097561</td>\n",
       "      <td>41</td>\n",
       "    </tr>\n",
       "    <tr>\n",
       "      <th>5</th>\n",
       "      <td>0.000000</td>\n",
       "      <td>9</td>\n",
       "    </tr>\n",
       "  </tbody>\n",
       "</table>\n",
       "</div>"
      ],
      "text/plain": [
       "              mean  count\n",
       "              debt   debt\n",
       "children                 \n",
       "0         0.075438  14091\n",
       "1         0.092346   4808\n",
       "2         0.094542   2052\n",
       "3         0.081818    330\n",
       "4         0.097561     41\n",
       "5         0.000000      9"
      ]
     },
     "execution_count": 25,
     "metadata": {},
     "output_type": "execute_result"
    }
   ],
   "source": [
    "#Вывожу соотношение \"дети-задолженность\"\n",
    "#Построена сводная таблица, где мы видим, что семьи с 1,2,4 детьми - самые большие должники.\n",
    "#С 4 детьми слишком маленькая категория - не берем в расчет.\n",
    "\n",
    "pivot_children_debt = data.pivot_table(index = 'children', values = 'debt', aggfunc = ['mean', 'count'])\n",
    "pivot_children_debt"
   ]
  },
  {
   "cell_type": "markdown",
   "id": "74c9b3a7",
   "metadata": {
    "deletable": false,
    "editable": false,
    "id": "74c9b3a7"
   },
   "source": [
    "#### 3.2 Есть ли зависимость между семейным положением и возвратом кредита в срок?"
   ]
  },
  {
   "cell_type": "code",
   "execution_count": 26,
   "id": "8098ab3b",
   "metadata": {
    "deletable": false,
    "id": "8098ab3b"
   },
   "outputs": [
    {
     "data": {
      "text/plain": [
       "<AxesSubplot:xlabel='debt', ylabel='family_status'>"
      ]
     },
     "execution_count": 26,
     "metadata": {},
     "output_type": "execute_result"
    },
    {
     "data": {
      "image/png": "[encoded data removed]",
      "text/plain": [
       "<Figure size 600x300 with 1 Axes>"
      ]
     },
     "metadata": {},
     "output_type": "display_data"
    }
   ],
   "source": [
    "# Ваш код будет здесь. Вы можете создавать новые ячейки.\n",
    "data_family = data['family_status']\n",
    "debt = data['debt']\n",
    "plt.figure(figsize=(6,3))\n",
    "sns.barplot(x = debt, y = data_family, ci=None)"
   ]
  },
  {
   "cell_type": "code",
   "execution_count": 27,
   "id": "9fedb10f",
   "metadata": {
    "scrolled": false
   },
   "outputs": [
    {
     "data": {
      "text/plain": [
       "женат / замужем          12261\n",
       "гражданский брак          4134\n",
       "Не женат / не замужем     2796\n",
       "в разводе                 1189\n",
       "вдовец / вдова             951\n",
       "Name: family_status, dtype: int64"
      ]
     },
     "execution_count": 27,
     "metadata": {},
     "output_type": "execute_result"
    }
   ],
   "source": [
    "data_family.value_counts()"
   ]
  },
  {
   "cell_type": "code",
   "execution_count": 28,
   "id": "a9e42746",
   "metadata": {},
   "outputs": [
    {
     "data": {
      "text/html": [
       "<div>\n",
       "<style scoped>\n",
       "    .dataframe tbody tr th:only-of-type {\n",
       "        vertical-align: middle;\n",
       "    }\n",
       "\n",
       "    .dataframe tbody tr th {\n",
       "        vertical-align: top;\n",
       "    }\n",
       "\n",
       "    .dataframe thead tr th {\n",
       "        text-align: left;\n",
       "    }\n",
       "\n",
       "    .dataframe thead tr:last-of-type th {\n",
       "        text-align: right;\n",
       "    }\n",
       "</style>\n",
       "<table border=\"1\" class=\"dataframe\">\n",
       "  <thead>\n",
       "    <tr>\n",
       "      <th></th>\n",
       "      <th>mean</th>\n",
       "      <th>count</th>\n",
       "    </tr>\n",
       "    <tr>\n",
       "      <th></th>\n",
       "      <th>debt</th>\n",
       "      <th>debt</th>\n",
       "    </tr>\n",
       "    <tr>\n",
       "      <th>family_status</th>\n",
       "      <th></th>\n",
       "      <th></th>\n",
       "    </tr>\n",
       "  </thead>\n",
       "  <tbody>\n",
       "    <tr>\n",
       "      <th>Не женат / не замужем</th>\n",
       "      <td>0.097639</td>\n",
       "      <td>2796</td>\n",
       "    </tr>\n",
       "    <tr>\n",
       "      <th>в разводе</th>\n",
       "      <td>0.070648</td>\n",
       "      <td>1189</td>\n",
       "    </tr>\n",
       "    <tr>\n",
       "      <th>вдовец / вдова</th>\n",
       "      <td>0.066246</td>\n",
       "      <td>951</td>\n",
       "    </tr>\n",
       "    <tr>\n",
       "      <th>гражданский брак</th>\n",
       "      <td>0.093130</td>\n",
       "      <td>4134</td>\n",
       "    </tr>\n",
       "    <tr>\n",
       "      <th>женат / замужем</th>\n",
       "      <td>0.075606</td>\n",
       "      <td>12261</td>\n",
       "    </tr>\n",
       "  </tbody>\n",
       "</table>\n",
       "</div>"
      ],
      "text/plain": [
       "                           mean  count\n",
       "                           debt   debt\n",
       "family_status                         \n",
       "Не женат / не замужем  0.097639   2796\n",
       "в разводе              0.070648   1189\n",
       "вдовец / вдова         0.066246    951\n",
       "гражданский брак       0.093130   4134\n",
       "женат / замужем        0.075606  12261"
      ]
     },
     "execution_count": 28,
     "metadata": {},
     "output_type": "execute_result"
    }
   ],
   "source": [
    "pivot_family_debt = data.pivot_table(index = 'family_status', values = 'debt', aggfunc = ['mean', 'count'])\n",
    "pivot_family_debt\n",
    "#в сводной таблице проще увидеть, что категория гражданский брак является самыми большими должниками\n",
    "#(количество 4134 против 2796 в категории не женат/не замужем)"
   ]
  },
  {
   "cell_type": "markdown",
   "id": "c389ca63",
   "metadata": {
    "deletable": false,
    "id": "c389ca63"
   },
   "source": [
    "**Вывод:** \n",
    "Самая низкая задолженность в категориях \"вдовец(вдова)\" и \"в разводе\".\n",
    "Чуть выше уровень задолженности в категории \"женат/замужем\".\n",
    "Самый высокий отрицательный возврат кредита в срок в категориях \"гражданский брак\" и \"не женат/не замужем\" (что в принципе, сравнивая названия категорий, может означать одно и то же).\n",
    "\n",
    "Следовательно, люди, состоящие на текущий момент в браке или состовшие в нем ранее, являются более ответственными заемщиками в плане возврата кредита в срок."
   ]
  },
  {
   "cell_type": "markdown",
   "id": "9529de68",
   "metadata": {
    "deletable": false,
    "editable": false,
    "id": "9529de68"
   },
   "source": [
    "#### 3.3 Есть ли зависимость между уровнем дохода и возвратом кредита в срок?"
   ]
  },
  {
   "cell_type": "code",
   "execution_count": 37,
   "id": "8787f44a",
   "metadata": {
    "deletable": false,
    "id": "8787f44a"
   },
   "outputs": [
    {
     "data": {
      "text/plain": [
       "<AxesSubplot:xlabel='total_income', ylabel='debt'>"
      ]
     },
     "execution_count": 37,
     "metadata": {},
     "output_type": "execute_result"
    },
    {
     "data": {
      "image/png": "[encoded data removed]",
      "text/plain": [
       "<Figure size 640x480 with 1 Axes>"
      ]
     },
     "metadata": {},
     "output_type": "display_data"
    }
   ],
   "source": [
    "data_income = data['total_income']\n",
    "debt = data['debt']\n",
    "sns.barplot(x = data_income, y = debt, ci=None)"
   ]
  },
  {
   "cell_type": "code",
   "execution_count": 30,
   "id": "f55cc4c7",
   "metadata": {},
   "outputs": [
    {
     "data": {
      "text/html": [
       "<div>\n",
       "<style scoped>\n",
       "    .dataframe tbody tr th:only-of-type {\n",
       "        vertical-align: middle;\n",
       "    }\n",
       "\n",
       "    .dataframe tbody tr th {\n",
       "        vertical-align: top;\n",
       "    }\n",
       "\n",
       "    .dataframe thead tr th {\n",
       "        text-align: left;\n",
       "    }\n",
       "\n",
       "    .dataframe thead tr:last-of-type th {\n",
       "        text-align: right;\n",
       "    }\n",
       "</style>\n",
       "<table border=\"1\" class=\"dataframe\">\n",
       "  <thead>\n",
       "    <tr>\n",
       "      <th></th>\n",
       "      <th>mean</th>\n",
       "      <th>count</th>\n",
       "    </tr>\n",
       "    <tr>\n",
       "      <th></th>\n",
       "      <th>debt</th>\n",
       "      <th>debt</th>\n",
       "    </tr>\n",
       "    <tr>\n",
       "      <th>total_income</th>\n",
       "      <th></th>\n",
       "      <th></th>\n",
       "    </tr>\n",
       "  </thead>\n",
       "  <tbody>\n",
       "    <tr>\n",
       "      <th>20667</th>\n",
       "      <td>1.0</td>\n",
       "      <td>1</td>\n",
       "    </tr>\n",
       "    <tr>\n",
       "      <th>21205</th>\n",
       "      <td>0.0</td>\n",
       "      <td>1</td>\n",
       "    </tr>\n",
       "    <tr>\n",
       "      <th>21367</th>\n",
       "      <td>0.0</td>\n",
       "      <td>1</td>\n",
       "    </tr>\n",
       "    <tr>\n",
       "      <th>21695</th>\n",
       "      <td>0.0</td>\n",
       "      <td>1</td>\n",
       "    </tr>\n",
       "    <tr>\n",
       "      <th>21895</th>\n",
       "      <td>0.0</td>\n",
       "      <td>1</td>\n",
       "    </tr>\n",
       "    <tr>\n",
       "      <th>...</th>\n",
       "      <td>...</td>\n",
       "      <td>...</td>\n",
       "    </tr>\n",
       "    <tr>\n",
       "      <th>1711309</th>\n",
       "      <td>0.0</td>\n",
       "      <td>1</td>\n",
       "    </tr>\n",
       "    <tr>\n",
       "      <th>1715018</th>\n",
       "      <td>0.0</td>\n",
       "      <td>1</td>\n",
       "    </tr>\n",
       "    <tr>\n",
       "      <th>1726276</th>\n",
       "      <td>0.0</td>\n",
       "      <td>1</td>\n",
       "    </tr>\n",
       "    <tr>\n",
       "      <th>2200852</th>\n",
       "      <td>1.0</td>\n",
       "      <td>1</td>\n",
       "    </tr>\n",
       "    <tr>\n",
       "      <th>2265604</th>\n",
       "      <td>0.0</td>\n",
       "      <td>1</td>\n",
       "    </tr>\n",
       "  </tbody>\n",
       "</table>\n",
       "<p>18504 rows × 2 columns</p>\n",
       "</div>"
      ],
      "text/plain": [
       "             mean count\n",
       "             debt  debt\n",
       "total_income           \n",
       "20667         1.0     1\n",
       "21205         0.0     1\n",
       "21367         0.0     1\n",
       "21695         0.0     1\n",
       "21895         0.0     1\n",
       "...           ...   ...\n",
       "1711309       0.0     1\n",
       "1715018       0.0     1\n",
       "1726276       0.0     1\n",
       "2200852       1.0     1\n",
       "2265604       0.0     1\n",
       "\n",
       "[18504 rows x 2 columns]"
      ]
     },
     "execution_count": 30,
     "metadata": {},
     "output_type": "execute_result"
    }
   ],
   "source": [
    "pivot_income_debt = data.pivot_table(index = 'total_income', values = 'debt', aggfunc = ['mean', 'count'])\n",
    "pivot_income_debt\n",
    "#по разным категориям дохода нет каких-либо выбросов, видим ровные значения вне зависимости от уровня доходов\n",
    "#тем самым подтверждаем наш вывод, что уровенб дохода не влияет на возврат кредита в срок"
   ]
  },
  {
   "cell_type": "markdown",
   "id": "6dd14b57",
   "metadata": {
    "deletable": false,
    "id": "6dd14b57"
   },
   "source": [
    "**Вывод:** \n",
    "Уровень дохода не влияет на возврат кредита в срок."
   ]
  },
  {
   "cell_type": "markdown",
   "id": "1dcc9b12",
   "metadata": {
    "deletable": false,
    "editable": false,
    "id": "1dcc9b12"
   },
   "source": [
    "#### 3.4 Как разные цели кредита влияют на его возврат в срок?"
   ]
  },
  {
   "cell_type": "code",
   "execution_count": 35,
   "id": "c602bc8b",
   "metadata": {
    "deletable": false,
    "id": "c602bc8b",
    "scrolled": true
   },
   "outputs": [
    {
     "data": {
      "text/plain": [
       "<AxesSubplot:xlabel='debt', ylabel='purpose_category'>"
      ]
     },
     "execution_count": 35,
     "metadata": {},
     "output_type": "execute_result"
    },
    {
     "data": {
      "image/png": "[encoded data removed]",
      "text/plain": [
       "<Figure size 600x300 with 1 Axes>"
      ]
     },
     "metadata": {},
     "output_type": "display_data"
    }
   ],
   "source": [
    "data_purpose = data['purpose_category']\n",
    "debt = data['debt']\n",
    "plt.figure(figsize=(6,3))\n",
    "sns.barplot(x = debt, y = data_purpose, ci=None)"
   ]
  },
  {
   "cell_type": "code",
   "execution_count": 36,
   "id": "70f4a179",
   "metadata": {},
   "outputs": [
    {
     "data": {
      "text/html": [
       "<div>\n",
       "<style scoped>\n",
       "    .dataframe tbody tr th:only-of-type {\n",
       "        vertical-align: middle;\n",
       "    }\n",
       "\n",
       "    .dataframe tbody tr th {\n",
       "        vertical-align: top;\n",
       "    }\n",
       "\n",
       "    .dataframe thead tr th {\n",
       "        text-align: left;\n",
       "    }\n",
       "\n",
       "    .dataframe thead tr:last-of-type th {\n",
       "        text-align: right;\n",
       "    }\n",
       "</style>\n",
       "<table border=\"1\" class=\"dataframe\">\n",
       "  <thead>\n",
       "    <tr>\n",
       "      <th></th>\n",
       "      <th>mean</th>\n",
       "      <th>count</th>\n",
       "    </tr>\n",
       "    <tr>\n",
       "      <th></th>\n",
       "      <th>debt</th>\n",
       "      <th>debt</th>\n",
       "    </tr>\n",
       "    <tr>\n",
       "      <th>purpose_category</th>\n",
       "      <th></th>\n",
       "      <th></th>\n",
       "    </tr>\n",
       "  </thead>\n",
       "  <tbody>\n",
       "    <tr>\n",
       "      <th>операции с автомобилем</th>\n",
       "      <td>0.093480</td>\n",
       "      <td>4279</td>\n",
       "    </tr>\n",
       "    <tr>\n",
       "      <th>операции с недвижимостью</th>\n",
       "      <td>0.072551</td>\n",
       "      <td>10751</td>\n",
       "    </tr>\n",
       "    <tr>\n",
       "      <th>получение образования</th>\n",
       "      <td>0.092528</td>\n",
       "      <td>3988</td>\n",
       "    </tr>\n",
       "    <tr>\n",
       "      <th>проведение свадьбы</th>\n",
       "      <td>0.079118</td>\n",
       "      <td>2313</td>\n",
       "    </tr>\n",
       "  </tbody>\n",
       "</table>\n",
       "</div>"
      ],
      "text/plain": [
       "                              mean  count\n",
       "                              debt   debt\n",
       "purpose_category                         \n",
       "операции с автомобилем    0.093480   4279\n",
       "операции с недвижимостью  0.072551  10751\n",
       "получение образования     0.092528   3988\n",
       "проведение свадьбы        0.079118   2313"
      ]
     },
     "execution_count": 36,
     "metadata": {},
     "output_type": "execute_result"
    }
   ],
   "source": [
    "pivot_purpose_debt = data.pivot_table(index = 'purpose_category', values = 'debt', aggfunc = ['mean', 'count'])\n",
    "pivot_purpose_debt\n",
    "#по сводной талице видим, что операции с автомобилем и образованием практически равны по невозврату долга, среднее - 0.09\n",
    "#операции с недвижимость явзяются самой обширной категорией(10751 кредитов), но среднее по невозврату - ниже, всего 0.07"
   ]
  },
  {
   "cell_type": "markdown",
   "id": "c08217ff",
   "metadata": {
    "deletable": false,
    "id": "cf05ed63"
   },
   "source": [
    "**Вывод:** \n",
    "Цель кредита меньше влияет на возврат кредита в срок, чем семейное положение или количество детей (шкала задолженности меньше).\n",
    "Операции с недвижимостью и проведение свадьбы - наиболее возвращаемые категории кредитов среди остальных категорий."
   ]
  },
  {
   "cell_type": "markdown",
   "id": "46c1f10b",
   "metadata": {
    "deletable": false,
    "editable": false,
    "id": "46c1f10b"
   },
   "source": [
    "#### 3.5 Приведите возможные причины появления пропусков в исходных данных."
   ]
  },
  {
   "cell_type": "markdown",
   "id": "3697d2a9",
   "metadata": {
    "deletable": false,
    "id": "3697d2a9"
   },
   "source": [
    "*Ответ:* \n",
    "С помощью data.isna().sum() мы вывили пропуски в данных о доходах и данных о трудовом стаже.\n",
    "Клиенты могли не указать эти данные (или данные были, но по ошибке сотрудники не загрузили их) или же произошел какой-то сбой и данные были утеряны."
   ]
  },
  {
   "cell_type": "markdown",
   "id": "3137d257",
   "metadata": {
    "deletable": false,
    "editable": false,
    "id": "3137d257"
   },
   "source": [
    "#### 3.6 Объясните, почему заполнить пропуски медианным значением — лучшее решение для количественных переменных."
   ]
  },
  {
   "cell_type": "markdown",
   "id": "cf40012a",
   "metadata": {
    "deletable": false,
    "id": "cf40012a"
   },
   "source": [
    "*Ответ:* \n",
    "Медианные значения дают нам возможность не учитывать в статистике выбросы(например, количество семей с 5 детьми, как наиболее малочисленная категория: 9 семей против 14091 семей без детей)."
   ]
  },
  {
   "cell_type": "markdown",
   "id": "57bc304e",
   "metadata": {
    "deletable": false,
    "editable": false,
    "id": "57bc304e"
   },
   "source": [
    "### Шаг 4: общий вывод."
   ]
  },
  {
   "cell_type": "markdown",
   "id": "1ab75d1c",
   "metadata": {
    "deletable": false,
    "id": "1ab75d1c"
   },
   "source": [
    "Если объединить все вышесказанное, то можно определить количество детей и семейное положение самыми влияющими параметрами на возврат кредита в срок.\n",
    "\n",
    "В семьях с 1 и 2 детьми уровень задолженностей в среднем выше, чем у семей с 1 или 3 детьми.\n",
    "Самый высокий отрицательный возврат кредита в срок в категориях \"гражданский брак\" и \"не женат/не замужем\".\n",
    "Цель кредита меньше влияет на возврат кредита в срок, чем семейное положение или количество детей.\n",
    "Уровень дохода не влияет на возврат кредита в срок."
   ]
  },
  {
   "cell_type": "code",
   "execution_count": 33,
   "id": "695fe1db",
   "metadata": {},
   "outputs": [
    {
     "data": {
      "text/html": [
       "<div>\n",
       "<style scoped>\n",
       "    .dataframe tbody tr th:only-of-type {\n",
       "        vertical-align: middle;\n",
       "    }\n",
       "\n",
       "    .dataframe tbody tr th {\n",
       "        vertical-align: top;\n",
       "    }\n",
       "\n",
       "    .dataframe thead th {\n",
       "        text-align: right;\n",
       "    }\n",
       "</style>\n",
       "<table border=\"1\" class=\"dataframe\">\n",
       "  <thead>\n",
       "    <tr style=\"text-align: right;\">\n",
       "      <th></th>\n",
       "      <th></th>\n",
       "      <th></th>\n",
       "      <th>debt</th>\n",
       "    </tr>\n",
       "    <tr>\n",
       "      <th>purpose_category</th>\n",
       "      <th>family_status</th>\n",
       "      <th>children</th>\n",
       "      <th></th>\n",
       "    </tr>\n",
       "  </thead>\n",
       "  <tbody>\n",
       "    <tr>\n",
       "      <th rowspan=\"2\" valign=\"top\">операции с недвижимостью</th>\n",
       "      <th rowspan=\"2\" valign=\"top\">женат / замужем</th>\n",
       "      <th>0</th>\n",
       "      <td>4237</td>\n",
       "    </tr>\n",
       "    <tr>\n",
       "      <th>1</th>\n",
       "      <td>1699</td>\n",
       "    </tr>\n",
       "    <tr>\n",
       "      <th>операции с автомобилем</th>\n",
       "      <th>женат / замужем</th>\n",
       "      <th>0</th>\n",
       "      <td>1649</td>\n",
       "    </tr>\n",
       "    <tr>\n",
       "      <th>получение образования</th>\n",
       "      <th>женат / замужем</th>\n",
       "      <th>0</th>\n",
       "      <td>1582</td>\n",
       "    </tr>\n",
       "    <tr>\n",
       "      <th>проведение свадьбы</th>\n",
       "      <th>гражданский брак</th>\n",
       "      <th>0</th>\n",
       "      <td>1530</td>\n",
       "    </tr>\n",
       "    <tr>\n",
       "      <th rowspan=\"2\" valign=\"top\">операции с недвижимостью</th>\n",
       "      <th>Не женат / не замужем</th>\n",
       "      <th>0</th>\n",
       "      <td>1287</td>\n",
       "    </tr>\n",
       "    <tr>\n",
       "      <th>женат / замужем</th>\n",
       "      <th>2</th>\n",
       "      <td>873</td>\n",
       "    </tr>\n",
       "    <tr>\n",
       "      <th>операции с автомобилем</th>\n",
       "      <th>женат / замужем</th>\n",
       "      <th>1</th>\n",
       "      <td>685</td>\n",
       "    </tr>\n",
       "    <tr>\n",
       "      <th>операции с недвижимостью</th>\n",
       "      <th>гражданский брак</th>\n",
       "      <th>0</th>\n",
       "      <td>649</td>\n",
       "    </tr>\n",
       "    <tr>\n",
       "      <th>получение образования</th>\n",
       "      <th>женат / замужем</th>\n",
       "      <th>1</th>\n",
       "      <td>591</td>\n",
       "    </tr>\n",
       "    <tr>\n",
       "      <th>проведение свадьбы</th>\n",
       "      <th>гражданский брак</th>\n",
       "      <th>1</th>\n",
       "      <td>532</td>\n",
       "    </tr>\n",
       "    <tr>\n",
       "      <th>операции с автомобилем</th>\n",
       "      <th>Не женат / не замужем</th>\n",
       "      <th>0</th>\n",
       "      <td>518</td>\n",
       "    </tr>\n",
       "    <tr>\n",
       "      <th>операции с недвижимостью</th>\n",
       "      <th>вдовец / вдова</th>\n",
       "      <th>0</th>\n",
       "      <td>470</td>\n",
       "    </tr>\n",
       "    <tr>\n",
       "      <th>получение образования</th>\n",
       "      <th>Не женат / не замужем</th>\n",
       "      <th>0</th>\n",
       "      <td>457</td>\n",
       "    </tr>\n",
       "    <tr>\n",
       "      <th>операции с недвижимостью</th>\n",
       "      <th>в разводе</th>\n",
       "      <th>0</th>\n",
       "      <td>431</td>\n",
       "    </tr>\n",
       "    <tr>\n",
       "      <th>получение образования</th>\n",
       "      <th>женат / замужем</th>\n",
       "      <th>2</th>\n",
       "      <td>336</td>\n",
       "    </tr>\n",
       "    <tr>\n",
       "      <th rowspan=\"2\" valign=\"top\">операции с автомобилем</th>\n",
       "      <th>женат / замужем</th>\n",
       "      <th>2</th>\n",
       "      <td>324</td>\n",
       "    </tr>\n",
       "    <tr>\n",
       "      <th>гражданский брак</th>\n",
       "      <th>0</th>\n",
       "      <td>282</td>\n",
       "    </tr>\n",
       "    <tr>\n",
       "      <th>получение образования</th>\n",
       "      <th>гражданский брак</th>\n",
       "      <th>0</th>\n",
       "      <td>269</td>\n",
       "    </tr>\n",
       "    <tr>\n",
       "      <th>операции с недвижимостью</th>\n",
       "      <th>гражданский брак</th>\n",
       "      <th>1</th>\n",
       "      <td>261</td>\n",
       "    </tr>\n",
       "  </tbody>\n",
       "</table>\n",
       "</div>"
      ],
      "text/plain": [
       "                                                         debt\n",
       "purpose_category         family_status         children      \n",
       "операции с недвижимостью женат / замужем       0         4237\n",
       "                                               1         1699\n",
       "операции с автомобилем   женат / замужем       0         1649\n",
       "получение образования    женат / замужем       0         1582\n",
       "проведение свадьбы       гражданский брак      0         1530\n",
       "операции с недвижимостью Не женат / не замужем 0         1287\n",
       "                         женат / замужем       2          873\n",
       "операции с автомобилем   женат / замужем       1          685\n",
       "операции с недвижимостью гражданский брак      0          649\n",
       "получение образования    женат / замужем       1          591\n",
       "проведение свадьбы       гражданский брак      1          532\n",
       "операции с автомобилем   Не женат / не замужем 0          518\n",
       "операции с недвижимостью вдовец / вдова        0          470\n",
       "получение образования    Не женат / не замужем 0          457\n",
       "операции с недвижимостью в разводе             0          431\n",
       "получение образования    женат / замужем       2          336\n",
       "операции с автомобилем   женат / замужем       2          324\n",
       "                         гражданский брак      0          282\n",
       "получение образования    гражданский брак      0          269\n",
       "операции с недвижимостью гражданский брак      1          261"
      ]
     },
     "execution_count": 33,
     "metadata": {},
     "output_type": "execute_result"
    }
   ],
   "source": [
    "pivot_final = data.pivot_table(index = ['purpose_category', 'family_status', 'children'], values = 'debt', aggfunc = 'count')\n",
    "pivot_final.sort_values('debt', ascending = False).head(20)\n",
    "#построили сводную таблицу по самым значимым для нас категориям(не брали в расчет кровень дохода).\n",
    "#самое большое кол-во должников в операциях с недвижимостью, в статусе женат/замужем, без детей\n",
    "#хотя, когда мы строили сводные таблицы отдельно по каждой категории, это было не так\n",
    "#поэтому делаю вывод, что мы правильно вывели отдельно каждую категорию, так как тут данные не дают нам полного понимания картины"
   ]
  },
  {
   "cell_type": "code",
   "execution_count": null,
   "id": "1cd39c4f",
   "metadata": {},
   "outputs": [],
   "source": []
  }
 ],
 "metadata": {
  "ExecuteTimeLog": [
   {
    "duration": 686,
    "start_time": "2023-01-28T16:06:43.593Z"
   },
   {
    "duration": 47,
    "start_time": "2023-01-28T16:06:44.282Z"
   },
   {
    "duration": 35,
    "start_time": "2023-01-28T16:06:44.336Z"
   },
   {
    "duration": 13,
    "start_time": "2023-01-28T16:06:44.373Z"
   },
   {
    "duration": 61,
    "start_time": "2023-01-28T16:06:44.388Z"
   },
   {
    "duration": 20,
    "start_time": "2023-01-28T16:06:44.457Z"
   },
   {
    "duration": 17,
    "start_time": "2023-01-28T16:06:44.479Z"
   },
   {
    "duration": 40,
    "start_time": "2023-01-28T16:06:44.499Z"
   },
   {
    "duration": 23,
    "start_time": "2023-01-28T16:06:44.550Z"
   },
   {
    "duration": 40,
    "start_time": "2023-01-28T16:06:44.579Z"
   },
   {
    "duration": 95,
    "start_time": "2023-01-28T16:06:44.620Z"
   },
   {
    "duration": 14,
    "start_time": "2023-01-28T16:06:44.719Z"
   },
   {
    "duration": 22,
    "start_time": "2023-01-28T16:06:44.739Z"
   },
   {
    "duration": 14,
    "start_time": "2023-01-28T16:06:44.763Z"
   },
   {
    "duration": 22,
    "start_time": "2023-01-28T16:06:44.779Z"
   },
   {
    "duration": 38,
    "start_time": "2023-01-28T16:06:44.809Z"
   },
   {
    "duration": 9,
    "start_time": "2023-01-28T16:06:44.848Z"
   },
   {
    "duration": 14,
    "start_time": "2023-01-28T16:06:44.858Z"
   },
   {
    "duration": 15,
    "start_time": "2023-01-28T16:06:44.874Z"
   },
   {
    "duration": 6,
    "start_time": "2023-01-28T16:06:44.890Z"
   },
   {
    "duration": 60,
    "start_time": "2023-01-28T16:06:44.898Z"
   },
   {
    "duration": 6,
    "start_time": "2023-01-28T16:06:44.960Z"
   },
   {
    "duration": 4,
    "start_time": "2023-01-28T16:06:44.968Z"
   },
   {
    "duration": 5,
    "start_time": "2023-01-28T16:06:44.974Z"
   },
   {
    "duration": 12,
    "start_time": "2023-01-28T16:06:44.980Z"
   },
   {
    "duration": 1561,
    "start_time": "2023-01-28T16:15:58.471Z"
   },
   {
    "duration": 132,
    "start_time": "2023-01-28T16:20:05.133Z"
   },
   {
    "duration": 45,
    "start_time": "2023-01-28T16:21:57.136Z"
   },
   {
    "duration": 64,
    "start_time": "2023-01-28T16:23:47.724Z"
   },
   {
    "duration": 48,
    "start_time": "2023-01-28T16:30:07.718Z"
   },
   {
    "duration": 61,
    "start_time": "2023-01-28T16:30:32.583Z"
   },
   {
    "duration": 8,
    "start_time": "2023-01-28T16:30:42.114Z"
   },
   {
    "duration": 393,
    "start_time": "2023-01-28T16:30:48.941Z"
   },
   {
    "duration": 16,
    "start_time": "2023-01-28T16:35:34.544Z"
   },
   {
    "duration": 373,
    "start_time": "2023-01-28T16:35:52.281Z"
   },
   {
    "duration": 13,
    "start_time": "2023-01-28T16:39:35.754Z"
   },
   {
    "duration": 139,
    "start_time": "2023-01-28T16:40:01.255Z"
   },
   {
    "duration": 154,
    "start_time": "2023-01-28T16:40:56.324Z"
   },
   {
    "duration": 5,
    "start_time": "2023-01-28T16:41:41.191Z"
   },
   {
    "duration": 9,
    "start_time": "2023-01-28T16:43:51.741Z"
   },
   {
    "duration": 154,
    "start_time": "2023-01-28T16:47:12.902Z"
   },
   {
    "duration": 10,
    "start_time": "2023-01-28T16:47:41.156Z"
   },
   {
    "duration": 9,
    "start_time": "2023-01-28T16:47:57.283Z"
   },
   {
    "duration": 159,
    "start_time": "2023-01-28T16:48:39.301Z"
   },
   {
    "duration": 258,
    "start_time": "2023-01-28T16:49:52.972Z"
   },
   {
    "duration": 149,
    "start_time": "2023-01-28T16:50:04.226Z"
   },
   {
    "duration": 115,
    "start_time": "2023-01-28T17:05:16.324Z"
   },
   {
    "duration": 146,
    "start_time": "2023-01-28T17:05:35.002Z"
   },
   {
    "duration": 134,
    "start_time": "2023-01-28T17:09:39.255Z"
   },
   {
    "duration": 123,
    "start_time": "2023-01-28T17:25:47.391Z"
   },
   {
    "duration": 145,
    "start_time": "2023-01-28T17:26:07.704Z"
   },
   {
    "duration": 143,
    "start_time": "2023-01-28T17:26:38.132Z"
   },
   {
    "duration": 1294,
    "start_time": "2023-01-29T12:41:28.418Z"
   },
   {
    "duration": 27,
    "start_time": "2023-01-29T12:41:29.714Z"
   },
   {
    "duration": 16,
    "start_time": "2023-01-29T12:41:29.743Z"
   },
   {
    "duration": 10,
    "start_time": "2023-01-29T12:41:29.761Z"
   },
   {
    "duration": 34,
    "start_time": "2023-01-29T12:41:29.773Z"
   },
   {
    "duration": 3,
    "start_time": "2023-01-29T12:41:29.809Z"
   },
   {
    "duration": 8,
    "start_time": "2023-01-29T12:41:29.841Z"
   },
   {
    "duration": 5,
    "start_time": "2023-01-29T12:41:29.851Z"
   },
   {
    "duration": 12,
    "start_time": "2023-01-29T12:41:29.857Z"
   },
   {
    "duration": 6,
    "start_time": "2023-01-29T12:41:29.870Z"
   },
   {
    "duration": 35,
    "start_time": "2023-01-29T12:41:29.878Z"
   },
   {
    "duration": 36,
    "start_time": "2023-01-29T12:41:29.914Z"
   },
   {
    "duration": 14,
    "start_time": "2023-01-29T12:41:29.952Z"
   },
   {
    "duration": 24,
    "start_time": "2023-01-29T12:41:29.969Z"
   },
   {
    "duration": 34,
    "start_time": "2023-01-29T12:41:29.995Z"
   },
   {
    "duration": 18,
    "start_time": "2023-01-29T12:41:30.031Z"
   },
   {
    "duration": 4,
    "start_time": "2023-01-29T12:41:30.051Z"
   },
   {
    "duration": 25,
    "start_time": "2023-01-29T12:41:30.056Z"
   },
   {
    "duration": 6,
    "start_time": "2023-01-29T12:41:30.083Z"
   },
   {
    "duration": 8,
    "start_time": "2023-01-29T12:41:30.091Z"
   },
   {
    "duration": 11,
    "start_time": "2023-01-29T12:41:30.101Z"
   },
   {
    "duration": 3353,
    "start_time": "2023-01-29T12:41:30.114Z"
   },
   {
    "duration": 6,
    "start_time": "2023-01-29T12:41:33.469Z"
   },
   {
    "duration": 148,
    "start_time": "2023-01-29T12:41:33.477Z"
   },
   {
    "duration": 15,
    "start_time": "2023-01-29T12:41:33.627Z"
   },
   {
    "duration": 265213,
    "start_time": "2023-01-29T12:41:33.643Z"
   },
   {
    "duration": 177,
    "start_time": "2023-01-29T12:45:58.858Z"
   },
   {
    "duration": 81,
    "start_time": "2023-01-29T12:45:59.039Z"
   },
   {
    "duration": 117,
    "start_time": "2023-01-29T19:31:47.816Z"
   },
   {
    "duration": 69,
    "start_time": "2023-01-29T19:31:58.095Z"
   },
   {
    "duration": 71,
    "start_time": "2023-01-29T19:32:26.222Z"
   },
   {
    "duration": 63,
    "start_time": "2023-01-29T19:35:45.048Z"
   },
   {
    "duration": 6,
    "start_time": "2023-01-29T19:36:28.457Z"
   },
   {
    "duration": 7,
    "start_time": "2023-01-29T19:36:51.468Z"
   },
   {
    "duration": 6,
    "start_time": "2023-01-29T19:37:29.421Z"
   },
   {
    "duration": 7,
    "start_time": "2023-01-29T19:37:39.954Z"
   },
   {
    "duration": 7,
    "start_time": "2023-01-29T19:58:48.626Z"
   },
   {
    "duration": 72,
    "start_time": "2023-01-29T20:02:25.631Z"
   },
   {
    "duration": 8,
    "start_time": "2023-01-29T20:10:21.670Z"
   },
   {
    "duration": 6,
    "start_time": "2023-01-29T20:10:31.440Z"
   },
   {
    "duration": 6,
    "start_time": "2023-01-29T20:12:09.911Z"
   },
   {
    "duration": 7,
    "start_time": "2023-01-29T20:12:18.864Z"
   },
   {
    "duration": 718,
    "start_time": "2023-01-29T20:12:41.293Z"
   },
   {
    "duration": 29,
    "start_time": "2023-01-29T20:12:42.014Z"
   },
   {
    "duration": 15,
    "start_time": "2023-01-29T20:12:42.045Z"
   },
   {
    "duration": 15,
    "start_time": "2023-01-29T20:12:42.062Z"
   },
   {
    "duration": 37,
    "start_time": "2023-01-29T20:12:42.079Z"
   },
   {
    "duration": 4,
    "start_time": "2023-01-29T20:12:42.118Z"
   },
   {
    "duration": 13,
    "start_time": "2023-01-29T20:12:42.123Z"
   },
   {
    "duration": 7,
    "start_time": "2023-01-29T20:12:42.138Z"
   },
   {
    "duration": 28,
    "start_time": "2023-01-29T20:12:42.146Z"
   },
   {
    "duration": 5,
    "start_time": "2023-01-29T20:12:42.176Z"
   },
   {
    "duration": 36,
    "start_time": "2023-01-29T20:12:42.182Z"
   },
   {
    "duration": 9,
    "start_time": "2023-01-29T20:12:42.219Z"
   },
   {
    "duration": 7,
    "start_time": "2023-01-29T20:12:42.230Z"
   },
   {
    "duration": 39,
    "start_time": "2023-01-29T20:12:42.238Z"
   },
   {
    "duration": 22,
    "start_time": "2023-01-29T20:12:42.279Z"
   },
   {
    "duration": 24,
    "start_time": "2023-01-29T20:12:42.302Z"
   },
   {
    "duration": 4,
    "start_time": "2023-01-29T20:12:42.327Z"
   },
   {
    "duration": 35,
    "start_time": "2023-01-29T20:12:42.333Z"
   },
   {
    "duration": 6,
    "start_time": "2023-01-29T20:12:42.370Z"
   },
   {
    "duration": 11,
    "start_time": "2023-01-29T20:12:42.377Z"
   },
   {
    "duration": 17,
    "start_time": "2023-01-29T20:12:42.390Z"
   },
   {
    "duration": 1170,
    "start_time": "2023-01-29T20:12:42.408Z"
   },
   {
    "duration": 8,
    "start_time": "2023-01-29T20:12:43.581Z"
   },
   {
    "duration": 36,
    "start_time": "2023-01-29T20:12:43.591Z"
   },
   {
    "duration": 140,
    "start_time": "2023-01-29T20:12:43.629Z"
   },
   {
    "duration": 7,
    "start_time": "2023-01-29T20:12:43.771Z"
   },
   {
    "duration": 76,
    "start_time": "2023-01-29T20:16:51.270Z"
   },
   {
    "duration": 18,
    "start_time": "2023-01-29T20:16:51.348Z"
   },
   {
    "duration": 25,
    "start_time": "2023-01-29T20:16:51.368Z"
   },
   {
    "duration": 15,
    "start_time": "2023-01-29T20:16:51.395Z"
   },
   {
    "duration": 36,
    "start_time": "2023-01-29T20:16:51.412Z"
   },
   {
    "duration": 3,
    "start_time": "2023-01-29T20:16:51.450Z"
   },
   {
    "duration": 18,
    "start_time": "2023-01-29T20:16:51.454Z"
   },
   {
    "duration": 5,
    "start_time": "2023-01-29T20:16:51.474Z"
   },
   {
    "duration": 8,
    "start_time": "2023-01-29T20:16:51.481Z"
   },
   {
    "duration": 5,
    "start_time": "2023-01-29T20:16:51.490Z"
   },
   {
    "duration": 35,
    "start_time": "2023-01-29T20:16:51.496Z"
   },
   {
    "duration": 36,
    "start_time": "2023-01-29T20:16:51.532Z"
   },
   {
    "duration": 5,
    "start_time": "2023-01-29T20:16:51.569Z"
   },
   {
    "duration": 21,
    "start_time": "2023-01-29T20:16:51.575Z"
   },
   {
    "duration": 16,
    "start_time": "2023-01-29T20:16:51.598Z"
   },
   {
    "duration": 16,
    "start_time": "2023-01-29T20:16:51.616Z"
   },
   {
    "duration": 3,
    "start_time": "2023-01-29T20:16:51.634Z"
   },
   {
    "duration": 30,
    "start_time": "2023-01-29T20:16:51.638Z"
   },
   {
    "duration": 6,
    "start_time": "2023-01-29T20:16:51.669Z"
   },
   {
    "duration": 6,
    "start_time": "2023-01-29T20:16:51.676Z"
   },
   {
    "duration": 14,
    "start_time": "2023-01-29T20:16:51.684Z"
   },
   {
    "duration": 137,
    "start_time": "2023-01-29T20:16:51.700Z"
   },
   {
    "duration": 5,
    "start_time": "2023-01-29T20:16:51.840Z"
   },
   {
    "duration": 140,
    "start_time": "2023-01-29T20:16:51.875Z"
   },
   {
    "duration": 7,
    "start_time": "2023-01-29T20:16:52.016Z"
   },
   {
    "duration": 240996,
    "start_time": "2023-01-29T20:16:52.025Z"
   },
   {
    "duration": 150,
    "start_time": "2023-01-29T20:20:53.022Z"
   },
   {
    "duration": 6,
    "start_time": "2023-01-29T20:20:53.175Z"
   },
   {
    "duration": 6,
    "start_time": "2023-01-29T20:24:06.120Z"
   },
   {
    "duration": 6,
    "start_time": "2023-01-29T20:24:16.504Z"
   },
   {
    "duration": 7,
    "start_time": "2023-01-29T20:30:06.707Z"
   },
   {
    "duration": 6,
    "start_time": "2023-01-29T20:32:47.232Z"
   },
   {
    "duration": 4,
    "start_time": "2023-01-29T20:33:29.845Z"
   },
   {
    "duration": 6,
    "start_time": "2023-01-29T20:36:48.387Z"
   },
   {
    "duration": 8,
    "start_time": "2023-01-29T20:36:50.974Z"
   },
   {
    "duration": 7,
    "start_time": "2023-01-29T20:38:58.427Z"
   },
   {
    "duration": 6,
    "start_time": "2023-01-29T20:39:26.519Z"
   },
   {
    "duration": 7,
    "start_time": "2023-01-29T20:40:45.846Z"
   },
   {
    "duration": 9,
    "start_time": "2023-01-29T20:41:30.043Z"
   },
   {
    "duration": 72,
    "start_time": "2023-01-29T20:45:33.892Z"
   },
   {
    "duration": 18,
    "start_time": "2023-01-29T20:45:49.759Z"
   },
   {
    "duration": 11,
    "start_time": "2023-01-29T20:48:35.783Z"
   },
   {
    "duration": 7,
    "start_time": "2023-01-29T20:49:01.494Z"
   },
   {
    "duration": 3,
    "start_time": "2023-01-29T20:49:02.627Z"
   },
   {
    "duration": 9,
    "start_time": "2023-01-29T20:49:14.822Z"
   },
   {
    "duration": 10,
    "start_time": "2023-01-29T20:49:27.334Z"
   },
   {
    "duration": 8,
    "start_time": "2023-01-29T20:49:45.434Z"
   },
   {
    "duration": 8,
    "start_time": "2023-01-29T20:51:32.415Z"
   },
   {
    "duration": 10,
    "start_time": "2023-01-29T20:54:24.664Z"
   },
   {
    "duration": 9,
    "start_time": "2023-01-29T20:54:35.480Z"
   },
   {
    "duration": 581,
    "start_time": "2023-02-09T11:48:09.609Z"
   },
   {
    "duration": 25,
    "start_time": "2023-02-09T11:48:10.192Z"
   },
   {
    "duration": 19,
    "start_time": "2023-02-09T11:48:10.219Z"
   },
   {
    "duration": 13,
    "start_time": "2023-02-09T11:48:10.240Z"
   },
   {
    "duration": 43,
    "start_time": "2023-02-09T11:48:10.255Z"
   },
   {
    "duration": 3,
    "start_time": "2023-02-09T11:48:10.300Z"
   },
   {
    "duration": 10,
    "start_time": "2023-02-09T11:48:10.305Z"
   },
   {
    "duration": 23,
    "start_time": "2023-02-09T11:48:10.317Z"
   },
   {
    "duration": 11,
    "start_time": "2023-02-09T11:48:10.342Z"
   },
   {
    "duration": 5,
    "start_time": "2023-02-09T11:48:10.357Z"
   },
   {
    "duration": 43,
    "start_time": "2023-02-09T11:48:10.365Z"
   },
   {
    "duration": 10,
    "start_time": "2023-02-09T11:48:10.410Z"
   },
   {
    "duration": 5,
    "start_time": "2023-02-09T11:48:10.440Z"
   },
   {
    "duration": 18,
    "start_time": "2023-02-09T11:48:10.446Z"
   },
   {
    "duration": 24,
    "start_time": "2023-02-09T11:48:10.466Z"
   },
   {
    "duration": 17,
    "start_time": "2023-02-09T11:48:10.491Z"
   },
   {
    "duration": 3,
    "start_time": "2023-02-09T11:48:10.510Z"
   },
   {
    "duration": 33,
    "start_time": "2023-02-09T11:48:10.515Z"
   },
   {
    "duration": 18,
    "start_time": "2023-02-09T11:48:10.550Z"
   },
   {
    "duration": 4,
    "start_time": "2023-02-09T11:48:10.569Z"
   },
   {
    "duration": 16,
    "start_time": "2023-02-09T11:48:10.574Z"
   },
   {
    "duration": 1102,
    "start_time": "2023-02-09T11:48:10.592Z"
   },
   {
    "duration": 7,
    "start_time": "2023-02-09T11:48:11.696Z"
   },
   {
    "duration": 15,
    "start_time": "2023-02-09T11:48:11.705Z"
   },
   {
    "duration": 147,
    "start_time": "2023-02-09T11:48:11.739Z"
   },
   {
    "duration": 8,
    "start_time": "2023-02-09T11:48:11.889Z"
   },
   {
    "duration": 256641,
    "start_time": "2023-02-09T11:48:11.899Z"
   },
   {
    "duration": 134,
    "start_time": "2023-02-09T11:52:28.543Z"
   },
   {
    "duration": 3,
    "start_time": "2023-02-09T11:52:28.678Z"
   },
   {
    "duration": 11,
    "start_time": "2023-02-09T11:52:28.683Z"
   },
   {
    "duration": 8,
    "start_time": "2023-02-09T11:52:28.696Z"
   },
   {
    "duration": 22,
    "start_time": "2023-02-09T11:52:28.706Z"
   },
   {
    "duration": 44,
    "start_time": "2023-02-09T11:52:28.730Z"
   },
   {
    "duration": 54,
    "start_time": "2023-02-09T11:56:33.572Z"
   },
   {
    "duration": 110,
    "start_time": "2023-02-09T11:56:42.076Z"
   },
   {
    "duration": 15,
    "start_time": "2023-02-09T11:56:52.669Z"
   },
   {
    "duration": 22,
    "start_time": "2023-02-09T11:57:13.112Z"
   },
   {
    "duration": 2,
    "start_time": "2023-02-09T11:59:37.545Z"
   },
   {
    "duration": 51,
    "start_time": "2023-02-09T12:00:01.121Z"
   },
   {
    "duration": 58,
    "start_time": "2023-02-09T12:00:53.274Z"
   },
   {
    "duration": 49,
    "start_time": "2023-02-09T12:01:01.198Z"
   },
   {
    "duration": 52,
    "start_time": "2023-02-09T12:01:06.854Z"
   },
   {
    "duration": 66,
    "start_time": "2023-02-09T12:01:34.820Z"
   },
   {
    "duration": 51,
    "start_time": "2023-02-09T12:09:03.305Z"
   },
   {
    "duration": 73,
    "start_time": "2023-02-09T12:09:11.253Z"
   },
   {
    "duration": 17,
    "start_time": "2023-02-09T12:09:11.328Z"
   },
   {
    "duration": 17,
    "start_time": "2023-02-09T12:09:11.346Z"
   },
   {
    "duration": 12,
    "start_time": "2023-02-09T12:09:11.365Z"
   },
   {
    "duration": 62,
    "start_time": "2023-02-09T12:09:11.378Z"
   },
   {
    "duration": 4,
    "start_time": "2023-02-09T12:09:11.442Z"
   },
   {
    "duration": 13,
    "start_time": "2023-02-09T12:09:11.448Z"
   },
   {
    "duration": 7,
    "start_time": "2023-02-09T12:09:11.463Z"
   },
   {
    "duration": 23,
    "start_time": "2023-02-09T12:09:11.471Z"
   },
   {
    "duration": 7,
    "start_time": "2023-02-09T12:09:11.496Z"
   },
   {
    "duration": 48,
    "start_time": "2023-02-09T12:09:11.505Z"
   },
   {
    "duration": 12,
    "start_time": "2023-02-09T12:09:11.555Z"
   },
   {
    "duration": 6,
    "start_time": "2023-02-09T12:09:11.569Z"
   },
   {
    "duration": 16,
    "start_time": "2023-02-09T12:09:11.577Z"
   },
   {
    "duration": 30,
    "start_time": "2023-02-09T12:09:11.595Z"
   },
   {
    "duration": 34,
    "start_time": "2023-02-09T12:09:11.626Z"
   },
   {
    "duration": 4,
    "start_time": "2023-02-09T12:09:11.662Z"
   },
   {
    "duration": 19,
    "start_time": "2023-02-09T12:09:11.667Z"
   },
   {
    "duration": 6,
    "start_time": "2023-02-09T12:09:11.688Z"
   },
   {
    "duration": 3,
    "start_time": "2023-02-09T12:09:11.696Z"
   },
   {
    "duration": 11,
    "start_time": "2023-02-09T12:09:11.700Z"
   },
   {
    "duration": 157,
    "start_time": "2023-02-09T12:09:11.712Z"
   },
   {
    "duration": 6,
    "start_time": "2023-02-09T12:09:11.870Z"
   },
   {
    "duration": 27,
    "start_time": "2023-02-09T12:09:11.878Z"
   },
   {
    "duration": 159,
    "start_time": "2023-02-09T12:09:11.906Z"
   },
   {
    "duration": 7,
    "start_time": "2023-02-09T12:09:12.067Z"
   },
   {
    "duration": 47,
    "start_time": "2023-02-09T12:09:12.076Z"
   },
   {
    "duration": 0,
    "start_time": "2023-02-09T12:09:12.125Z"
   },
   {
    "duration": 0,
    "start_time": "2023-02-09T12:09:12.126Z"
   },
   {
    "duration": 0,
    "start_time": "2023-02-09T12:09:12.128Z"
   },
   {
    "duration": 0,
    "start_time": "2023-02-09T12:09:12.129Z"
   },
   {
    "duration": 0,
    "start_time": "2023-02-09T12:09:12.130Z"
   },
   {
    "duration": 0,
    "start_time": "2023-02-09T12:09:12.132Z"
   },
   {
    "duration": 0,
    "start_time": "2023-02-09T12:09:12.133Z"
   },
   {
    "duration": 0,
    "start_time": "2023-02-09T12:09:12.134Z"
   },
   {
    "duration": 29,
    "start_time": "2023-02-09T12:12:35.471Z"
   },
   {
    "duration": 37,
    "start_time": "2023-02-09T12:18:15.988Z"
   },
   {
    "duration": 131,
    "start_time": "2023-02-09T12:21:08.393Z"
   },
   {
    "duration": 25,
    "start_time": "2023-02-09T12:22:15.656Z"
   },
   {
    "duration": 76,
    "start_time": "2023-02-09T12:29:08.012Z"
   },
   {
    "duration": 40,
    "start_time": "2023-02-09T12:29:56.717Z"
   },
   {
    "duration": 35,
    "start_time": "2023-02-09T12:31:08.173Z"
   },
   {
    "duration": 25,
    "start_time": "2023-02-09T12:32:17.223Z"
   },
   {
    "duration": 29,
    "start_time": "2023-02-09T12:34:59.752Z"
   },
   {
    "duration": 21,
    "start_time": "2023-02-09T12:35:18.447Z"
   },
   {
    "duration": 25,
    "start_time": "2023-02-09T12:35:25.776Z"
   },
   {
    "duration": 46,
    "start_time": "2023-02-09T12:39:20.655Z"
   },
   {
    "duration": 18,
    "start_time": "2023-02-09T12:39:36.662Z"
   },
   {
    "duration": 26,
    "start_time": "2023-02-09T12:39:46.933Z"
   },
   {
    "duration": 20,
    "start_time": "2023-02-09T12:41:00.310Z"
   },
   {
    "duration": 25,
    "start_time": "2023-02-09T12:42:52.415Z"
   },
   {
    "duration": 39,
    "start_time": "2023-02-09T12:43:27.195Z"
   },
   {
    "duration": 37,
    "start_time": "2023-02-09T12:43:35.953Z"
   },
   {
    "duration": 26,
    "start_time": "2023-02-09T12:43:48.485Z"
   },
   {
    "duration": 28,
    "start_time": "2023-02-09T12:43:55.482Z"
   },
   {
    "duration": 25,
    "start_time": "2023-02-09T12:44:21.803Z"
   },
   {
    "duration": 23,
    "start_time": "2023-02-09T12:44:43.043Z"
   },
   {
    "duration": 79,
    "start_time": "2023-02-09T12:49:38.658Z"
   },
   {
    "duration": 26,
    "start_time": "2023-02-09T12:49:38.739Z"
   },
   {
    "duration": 30,
    "start_time": "2023-02-09T12:49:38.768Z"
   },
   {
    "duration": 11,
    "start_time": "2023-02-09T12:49:38.800Z"
   },
   {
    "duration": 79,
    "start_time": "2023-02-09T12:49:38.813Z"
   },
   {
    "duration": 4,
    "start_time": "2023-02-09T12:49:38.894Z"
   },
   {
    "duration": 29,
    "start_time": "2023-02-09T12:49:38.900Z"
   },
   {
    "duration": 14,
    "start_time": "2023-02-09T12:49:38.931Z"
   },
   {
    "duration": 9,
    "start_time": "2023-02-09T12:49:38.947Z"
   },
   {
    "duration": 10,
    "start_time": "2023-02-09T12:49:38.960Z"
   },
   {
    "duration": 49,
    "start_time": "2023-02-09T12:49:38.973Z"
   },
   {
    "duration": 20,
    "start_time": "2023-02-09T12:49:39.040Z"
   },
   {
    "duration": 8,
    "start_time": "2023-02-09T12:49:39.062Z"
   },
   {
    "duration": 27,
    "start_time": "2023-02-09T12:49:39.073Z"
   },
   {
    "duration": 42,
    "start_time": "2023-02-09T12:49:39.102Z"
   },
   {
    "duration": 45,
    "start_time": "2023-02-09T12:49:39.146Z"
   },
   {
    "duration": 5,
    "start_time": "2023-02-09T12:49:39.193Z"
   },
   {
    "duration": 25,
    "start_time": "2023-02-09T12:49:39.200Z"
   },
   {
    "duration": 21,
    "start_time": "2023-02-09T12:49:39.230Z"
   },
   {
    "duration": 53,
    "start_time": "2023-02-09T12:49:39.254Z"
   },
   {
    "duration": 23,
    "start_time": "2023-02-09T12:49:39.309Z"
   },
   {
    "duration": 146,
    "start_time": "2023-02-09T12:49:39.335Z"
   },
   {
    "duration": 8,
    "start_time": "2023-02-09T12:49:39.484Z"
   },
   {
    "duration": 29,
    "start_time": "2023-02-09T12:49:39.493Z"
   },
   {
    "duration": 192,
    "start_time": "2023-02-09T12:49:39.540Z"
   },
   {
    "duration": 12,
    "start_time": "2023-02-09T12:49:39.740Z"
   },
   {
    "duration": 33,
    "start_time": "2023-02-09T12:49:39.754Z"
   },
   {
    "duration": 986,
    "start_time": "2023-02-09T17:39:09.600Z"
   },
   {
    "duration": 36,
    "start_time": "2023-02-09T17:39:10.592Z"
   },
   {
    "duration": 32,
    "start_time": "2023-02-09T17:39:10.630Z"
   },
   {
    "duration": 43,
    "start_time": "2023-02-09T17:39:10.670Z"
   },
   {
    "duration": 64,
    "start_time": "2023-02-09T17:39:10.715Z"
   },
   {
    "duration": 7,
    "start_time": "2023-02-09T17:39:10.789Z"
   },
   {
    "duration": 21,
    "start_time": "2023-02-09T17:39:10.800Z"
   },
   {
    "duration": 11,
    "start_time": "2023-02-09T17:39:10.824Z"
   },
   {
    "duration": 29,
    "start_time": "2023-02-09T17:39:10.839Z"
   },
   {
    "duration": 36,
    "start_time": "2023-02-09T17:39:10.873Z"
   },
   {
    "duration": 64,
    "start_time": "2023-02-09T17:39:10.911Z"
   },
   {
    "duration": 20,
    "start_time": "2023-02-09T17:39:10.982Z"
   },
   {
    "duration": 8,
    "start_time": "2023-02-09T17:39:11.004Z"
   },
   {
    "duration": 21,
    "start_time": "2023-02-09T17:39:11.015Z"
   },
   {
    "duration": 76,
    "start_time": "2023-02-09T17:39:11.043Z"
   },
   {
    "duration": 33,
    "start_time": "2023-02-09T17:39:11.121Z"
   },
   {
    "duration": 33,
    "start_time": "2023-02-09T17:39:11.171Z"
   },
   {
    "duration": 19,
    "start_time": "2023-02-09T17:39:11.206Z"
   },
   {
    "duration": 8,
    "start_time": "2023-02-09T17:39:11.227Z"
   },
   {
    "duration": 64,
    "start_time": "2023-02-09T17:39:11.237Z"
   },
   {
    "duration": 21,
    "start_time": "2023-02-09T17:39:11.304Z"
   },
   {
    "duration": 1494,
    "start_time": "2023-02-09T17:39:11.327Z"
   },
   {
    "duration": 17,
    "start_time": "2023-02-09T17:39:12.823Z"
   },
   {
    "duration": 88,
    "start_time": "2023-02-09T17:39:12.842Z"
   },
   {
    "duration": 202,
    "start_time": "2023-02-09T17:39:12.932Z"
   },
   {
    "duration": 16,
    "start_time": "2023-02-09T17:39:13.146Z"
   },
   {
    "duration": 81,
    "start_time": "2023-02-09T17:39:13.165Z"
   },
   {
    "duration": 525,
    "start_time": "2023-02-09T18:55:54.993Z"
   },
   {
    "duration": 25,
    "start_time": "2023-02-09T18:55:55.520Z"
   },
   {
    "duration": 15,
    "start_time": "2023-02-09T18:55:55.546Z"
   },
   {
    "duration": 10,
    "start_time": "2023-02-09T18:55:55.563Z"
   },
   {
    "duration": 59,
    "start_time": "2023-02-09T18:55:55.575Z"
   },
   {
    "duration": 4,
    "start_time": "2023-02-09T18:55:55.636Z"
   },
   {
    "duration": 17,
    "start_time": "2023-02-09T18:55:55.642Z"
   },
   {
    "duration": 9,
    "start_time": "2023-02-09T18:55:55.660Z"
   },
   {
    "duration": 11,
    "start_time": "2023-02-09T18:55:55.671Z"
   },
   {
    "duration": 6,
    "start_time": "2023-02-09T18:55:55.685Z"
   },
   {
    "duration": 63,
    "start_time": "2023-02-09T18:55:55.693Z"
   },
   {
    "duration": 10,
    "start_time": "2023-02-09T18:55:55.758Z"
   },
   {
    "duration": 8,
    "start_time": "2023-02-09T18:55:55.770Z"
   },
   {
    "duration": 13,
    "start_time": "2023-02-09T18:55:55.780Z"
   },
   {
    "duration": 39,
    "start_time": "2023-02-09T18:55:55.794Z"
   },
   {
    "duration": 19,
    "start_time": "2023-02-09T18:55:55.834Z"
   },
   {
    "duration": 3,
    "start_time": "2023-02-09T18:55:55.855Z"
   },
   {
    "duration": 14,
    "start_time": "2023-02-09T18:55:55.859Z"
   },
   {
    "duration": 5,
    "start_time": "2023-02-09T18:55:55.875Z"
   },
   {
    "duration": 10,
    "start_time": "2023-02-09T18:55:55.882Z"
   },
   {
    "duration": 34,
    "start_time": "2023-02-09T18:55:55.893Z"
   },
   {
    "duration": 1163,
    "start_time": "2023-02-09T18:55:55.929Z"
   },
   {
    "duration": 6,
    "start_time": "2023-02-09T18:55:57.094Z"
   },
   {
    "duration": 38,
    "start_time": "2023-02-09T18:55:57.101Z"
   },
   {
    "duration": 147,
    "start_time": "2023-02-09T18:55:57.140Z"
   },
   {
    "duration": 7,
    "start_time": "2023-02-09T18:55:57.289Z"
   },
   {
    "duration": 42,
    "start_time": "2023-02-09T18:55:57.298Z"
   },
   {
    "duration": 132,
    "start_time": "2023-02-09T19:00:12.928Z"
   },
   {
    "duration": 26,
    "start_time": "2023-02-09T19:00:13.062Z"
   },
   {
    "duration": 39,
    "start_time": "2023-02-09T19:00:13.089Z"
   }
  ],
  "colab": {
   "provenance": []
  },
  "kernelspec": {
   "display_name": "Python 3 (ipykernel)",
   "language": "python",
   "name": "python3"
  },
  "language_info": {
   "codemirror_mode": {
    "name": "ipython",
    "version": 3
   },
   "file_extension": ".py",
   "mimetype": "text/x-python",
   "name": "python",
   "nbconvert_exporter": "python",
   "pygments_lexer": "ipython3",
   "version": "3.9.13"
  },
  "toc": {
   "base_numbering": 1,
   "nav_menu": {},
   "number_sections": true,
   "sideBar": true,
   "skip_h1_title": true,
   "title_cell": "Table of Contents",
   "title_sidebar": "Contents",
   "toc_cell": false,
   "toc_position": {},
   "toc_section_display": true,
   "toc_window_display": false
  }
 },
 "nbformat": 4,
 "nbformat_minor": 5
}
